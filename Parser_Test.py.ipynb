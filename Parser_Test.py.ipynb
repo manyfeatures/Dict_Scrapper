{
 "cells": [
  {
   "cell_type": "code",
   "execution_count": 1,
   "metadata": {},
   "outputs": [],
   "source": [
    "from bs4 import BeautifulSoup\n",
    "import requests"
   ]
  },
  {
   "cell_type": "code",
   "execution_count": 2,
   "metadata": {},
   "outputs": [],
   "source": [
    "def download_data(url, price_min=None, price_max=None, proxy=None):\n",
    "    #    headers = {'user-agent': 'my-app/0.0.1'}\n",
    "    url = ''.join([url, word])\n",
    "    headers = {\n",
    "        \"User-Agent\": \"Mozilla/5.0 (Windows NT 10.0; Win64; x64; rv:79.0) Gecko/20100101 Firefox/79.0\",\n",
    "        \"Accept\": \"*/*\",\n",
    "        \"Accept-Language\": \"ru-RU,ru;q=0.8,en-US;q=0.5,en;q=0.3\",\n",
    "        \"Accept-Encoding\": \"gzip, deflate, br\"}\n",
    "\n",
    "    #data_to_send = {'p': page_numb, 'pmax': price_max, 'pmin': price_min}\n",
    "    s = requests.Session()\n",
    "    page = s.get(url,\n",
    "                 headers=headers,\n",
    "                 #params=data_to_send,\n",
    "                 proxies={\"http\": proxy, \"https\": proxy}, stream=True\n",
    "                )\n",
    "#     if page.status_code == 429:\n",
    "#         print(\"Blocked due to many requests\")\n",
    "#     if page.status_code == 403:\n",
    "#         raise Exception(\"Url is forbidden\")\n",
    "\n",
    "    # process connection error\n",
    "    soup = BeautifulSoup(page.content, 'html.parser')\n",
    "    return soup"
   ]
  },
  {
   "cell_type": "code",
   "execution_count": 15,
   "metadata": {},
   "outputs": [],
   "source": [
    "def find_word(word):\n",
    "    url = 'https://www.oxfordlearnersdictionaries.com/definition/english/'\n",
    "    res = download_data(url, word)\n",
    "    return res\n",
    "\n",
    "word = 'get'\n",
    "res = find_word(word)"
   ]
  },
  {
   "cell_type": "code",
   "execution_count": 16,
   "metadata": {},
   "outputs": [],
   "source": [
    "#data.find(name='top-container')"
   ]
  },
  {
   "cell_type": "markdown",
   "metadata": {},
   "source": [
    "### Whole data block"
   ]
  },
  {
   "cell_type": "code",
   "execution_count": 17,
   "metadata": {},
   "outputs": [],
   "source": [
    "data = res.find(\"div\", {\"id\", \"main-container\"})"
   ]
  },
  {
   "cell_type": "markdown",
   "metadata": {},
   "source": [
    "###### Top Block "
   ]
  },
  {
   "cell_type": "code",
   "execution_count": 18,
   "metadata": {},
   "outputs": [
    {
     "name": "stdout",
     "output_type": "stream",
     "text": [
      "get\n",
      "phonetics\n",
      "<span class=\"phonetics\"> <div class=\"phons_br\" geo=\"br\" hclass=\"phons_br\" htag=\"div\" wd=\"get\"><div class=\"sound audio_play_button pron-uk icon-audio\" data-src-mp3=\"https://www.oxfordlearnersdictionaries.com/media/english/uk_pron/g/get/get__/get__gb_2.mp3\" data-src-ogg=\"https://www.oxfordlearnersdictionaries.com/media/english/uk_pron_ogg/g/get/get__/get__gb_2.ogg\" style=\"cursor: pointer\" title=\"get pronunciation\n",
      "                    English\" valign=\"top\"> </div><span class=\"phon\">/ɡet/</span></div> <div class=\"phons_n_am\" geo=\"n_am\" hclass=\"phons_n_am\" htag=\"div\" wd=\"get\"><div class=\"sound audio_play_button pron-us icon-audio\" data-src-mp3=\"https://www.oxfordlearnersdictionaries.com/media/english/us_pron/g/get/get__/get__us_1.mp3\" data-src-ogg=\"https://www.oxfordlearnersdictionaries.com/media/english/us_pron_ogg/g/get/get__/get__us_1.ogg\" style=\"cursor: pointer\" title=\"get pronunciation\n",
      "                    American\" valign=\"top\"> </div><span class=\"phon\">/ɡet/</span></div></span>\n",
      "\n",
      "/ɡet/\n",
      "/ɡet/\n"
     ]
    }
   ],
   "source": [
    "# print word itself\n",
    "tmp = res.find(\"div\", {\"class\", \"top-container\"})\n",
    "print(tmp.find('h1', {'class', 'headword'}).text)\n",
    "\n",
    "print('phonetics')\n",
    "print(tmp.find(class_='phonetics'))\n",
    "phone = tmp.find(class_='phonetics')\n",
    "print()\n",
    "br_pron = phone.find(class_=\"phons_br\").get_text().strip()\n",
    "print(br_pron)\n",
    "am_pron = phone.find(class_=\"phons_n_am\").get_text().strip()\n",
    "print(am_pron)"
   ]
  },
  {
   "cell_type": "code",
   "execution_count": 19,
   "metadata": {},
   "outputs": [],
   "source": [
    "# level\n",
    "#tmp = res.find(\"div\", {\"id\", \"main-container\"})"
   ]
  },
  {
   "cell_type": "markdown",
   "metadata": {},
   "source": [
    "###### audio (in progress)"
   ]
  },
  {
   "cell_type": "code",
   "execution_count": 20,
   "metadata": {},
   "outputs": [
    {
     "data": {
      "text/plain": [
       "<div class=\"phons_br\" geo=\"br\" hclass=\"phons_br\" htag=\"div\" wd=\"get\"><div class=\"sound audio_play_button pron-uk icon-audio\" data-src-mp3=\"https://www.oxfordlearnersdictionaries.com/media/english/uk_pron/g/get/get__/get__gb_2.mp3\" data-src-ogg=\"https://www.oxfordlearnersdictionaries.com/media/english/uk_pron_ogg/g/get/get__/get__gb_2.ogg\" style=\"cursor: pointer\" title=\"get pronunciation\n",
       "                    English\" valign=\"top\"> </div><span class=\"phon\">/ɡet/</span></div>"
      ]
     },
     "execution_count": 20,
     "metadata": {},
     "output_type": "execute_result"
    }
   ],
   "source": [
    "phone.find(class_=\"phons_br\")"
   ]
  },
  {
   "cell_type": "code",
   "execution_count": 21,
   "metadata": {},
   "outputs": [
    {
     "data": {
      "text/plain": [
       "'https://www.oxfordlearnersdictionaries.com/media/english/uk_pron/g/get/get__/get__gb_2.mp3'"
      ]
     },
     "execution_count": 21,
     "metadata": {},
     "output_type": "execute_result"
    }
   ],
   "source": [
    "br_sound_url = phone.find(class_=\"phons_br\").div['data-src-mp3']\n",
    "br_sound_url"
   ]
  },
  {
   "cell_type": "markdown",
   "metadata": {},
   "source": [
    "###### get definitions "
   ]
  },
  {
   "cell_type": "code",
   "execution_count": 27,
   "metadata": {
    "collapsed": true
   },
   "outputs": [
    {
     "data": {
      "text/plain": [
       "<ol class=\"senses_multiple\" htag=\"ol\"><span class=\"shcut-g\" id=\"get_sngs_1\"> <h2 class=\"shcut\" hclass=\"shcut\" htag=\"h2\" id=\"get_shcut_1\">receive/obtain</h2><li cefr=\"a1\" class=\"sense\" hclass=\"sense\" htag=\"li\" id=\"get_sng_1\" ox3000=\"y\" sensenum=\"1\"><span class=\"sensetop\" hclass=\"sensetop\" htag=\"span\"><div class=\"symbols\" hclass=\"symbols\" htag=\"div\"><a href=\"https://www.oxfordlearnersdictionaries.com/wordlists/oxford3000-5000?dataset=english&amp;list=ox3000&amp;level=a1\"><span class=\"ox3ksym_a1\"> </span></a></div></span> <span class=\"grammar\" hclass=\"grammar\" htag=\"span\">[transitive, no passive]</span> <span class=\"cf\" hclass=\"cf\" htag=\"span\">get something</span> <span class=\"def\" hclass=\"def\" htag=\"span\">to receive something</span><ul class=\"examples\" hclass=\"examples\" htag=\"ul\"><li class=\"\" htag=\"li\"><span class=\"x\">I <span class=\"cl\">got a call</span> from Dave this morning.</span></li><li class=\"\" htag=\"li\"><span class=\"x\">What <span class=\"gloss\" hclass=\"gloss\" htag=\"span\">(= What presents)</span> did you get for your birthday?</span></li><li class=\"\" htag=\"li\"><span class=\"x\">He gets <span class=\"gloss\" hclass=\"gloss\" htag=\"span\">(= earns)</span> about $40 000 a year.</span></li><li class=\"\" htag=\"li\"><span class=\"x\">This room gets very little sunshine.</span></li><li class=\"\" htag=\"li\"><span class=\"x\">I got a shock when I saw the bill.</span></li><li class=\"\" htag=\"li\"><span class=\"x\">I will report back when I <span class=\"cl\">get a chance</span>.</span></li><li class=\"\" htag=\"li\"><span class=\"x\">I <span class=\"cl\">get the impression</span> that he is bored with his job.</span></li><li class=\"\" htag=\"li\"><span class=\"x\">Where did you <span class=\"cl\">get the idea</span> from?</span></li><li class=\"\" htag=\"li\"><span class=\"x\">It's the best way to <span class=\"cl\">get a sense </span>of what's actually going on here.</span></li><li class=\"\" htag=\"li\"><span class=\"x\">She got great satisfaction from seeing his embarrassment.</span></li></ul> </li><li cefr=\"a1\" class=\"sense\" hclass=\"sense\" htag=\"li\" id=\"get_sng_2\" ox3000=\"y\" sensenum=\"2\"><span class=\"sensetop\" hclass=\"sensetop\" htag=\"span\"><div class=\"symbols\" hclass=\"symbols\" htag=\"div\"><a href=\"https://www.oxfordlearnersdictionaries.com/wordlists/oxford3000-5000?dataset=english&amp;list=ox3000&amp;level=a1\"><span class=\"ox3ksym_a1\"> </span></a></div></span> <span class=\"grammar\" hclass=\"grammar\" htag=\"span\">[transitive, no passive]</span> <span class=\"def\" hclass=\"def\" htag=\"span\">to obtain something</span><ul class=\"examples\" hclass=\"examples\" htag=\"ul\"><li class=\"\" htag=\"li\"><span class=\"x\">He has just <span class=\"cl\">got a</span> new <span class=\"cl\">job</span>.</span></li><li class=\"\" htag=\"li\"><span class=\"x\">I'll <span class=\"cl\">get the money</span> somehow.</span></li><li class=\"\" htag=\"li\"><span class=\"x\">She opened the door wider to get a better look.</span></li><li class=\"\" htag=\"li\"><span class=\"x\">Try to get some sleep.</span></li><li class=\"\" htag=\"li\"><span class=\"x\">You can also <span class=\"cl\">get information</span> on careers in social work from their website.</span></li><li class=\"\" htag=\"li\"><span class=\"x\">I think someone's trying to <span class=\"cl\">get</span> your <span class=\"cl\">attention</span>.</span></li><li class=\"\" htag=\"li\"><span class=\"x\">She really knows how to <span class=\"cl\">get results</span>.</span></li></ul> <div class=\"\"> <div class=\"am-default contentslot\" id=\"ad_contentslot_1\">\n",
       "<script type=\"text/javascript\">googletag.cmd.push(function() { googletag.display('ad_contentslot_1'); });</script>\n",
       "</div>\n",
       "</div> </li><li cefr=\"a1\" class=\"sense\" hclass=\"sense\" htag=\"li\" id=\"get_sng_149\" ox3000=\"y\" sensenum=\"3\"><span class=\"sensetop\" hclass=\"sensetop\" htag=\"span\"><div class=\"symbols\" hclass=\"symbols\" htag=\"div\"><a href=\"https://www.oxfordlearnersdictionaries.com/wordlists/oxford3000-5000?dataset=english&amp;list=ox3000&amp;level=a1\"><span class=\"ox3ksym_a1\"> </span></a></div></span> <span class=\"grammar\" hclass=\"grammar\" htag=\"span\">[transitive]</span> <span class=\"def\" hclass=\"def\" htag=\"span\">to buy something</span><ul class=\"examples\" hclass=\"examples\" htag=\"ul\"><li class=\"\" htag=\"li\"> <span class=\"cf\" hclass=\"cf\" htag=\"span\">get something</span> <span class=\"x\">Where did you get that skirt?</span></li><li class=\"\" htag=\"li\"><span class=\"x\">Did you manage to get tickets for the concert?</span></li><li class=\"\" htag=\"li\"> <span class=\"labels\" hclass=\"labels\" htag=\"span\">(North American English)</span> <span class=\"x\"><span class=\"cl\">Can I get</span> a Coke?</span></li></ul> <span class=\"un\" un=\"help\">For example, when ordering in a cafe or restaurant. In <span class=\"labels\" hclass=\"labels\" htag=\"span\">British English</span>, we are more likely to say: <span class=\"ei\">Can I have a Coke?</span> </span><ul class=\"examples\" hclass=\"examples\" htag=\"ul\"><li class=\"\" htag=\"li\"><span class=\"cf\" hclass=\"cf\" htag=\"span\">get something for somebody</span> <span class=\"x\">Did you get a present for your mother?</span></li><li class=\"\" htag=\"li\"> <span class=\"cf\" hclass=\"cf\" htag=\"span\">get somebody/yourself something</span> <span class=\"x\">Did you get your mother a present?</span></li><li class=\"\" htag=\"li\"><span class=\"x\">Why don't you get yourself a car?</span></li><li class=\"\" htag=\"li\"><span class=\"x\">$100 will get you the basic model.</span></li><li class=\"\" htag=\"li\"><span class=\"x\">You can get yourself the basic model for $100.</span></li></ul> </li><li cefr=\"a1\" class=\"sense\" hclass=\"sense\" htag=\"li\" id=\"get_sng_3\" ox3000=\"y\" sensenum=\"4\"><span class=\"sensetop\" hclass=\"sensetop\" htag=\"span\"><div class=\"symbols\" hclass=\"symbols\" htag=\"div\"><a href=\"https://www.oxfordlearnersdictionaries.com/wordlists/oxford3000-5000?dataset=english&amp;list=ox3000&amp;level=a1\"><span class=\"ox3ksym_a1\"> </span></a></div></span> <span class=\"grammar\" hclass=\"grammar\" htag=\"span\">[transitive, no passive]</span> <span class=\"def\" hclass=\"def\" htag=\"span\">to obtain or receive an amount of money by selling something</span><ul class=\"examples\" hclass=\"examples\" htag=\"ul\"><li class=\"\" htag=\"li\"> <span class=\"cf\" hclass=\"cf\" htag=\"span\">get something</span> <span class=\"x\">If you sell it at auction you can expect to get roughly £800.</span></li><li class=\"\" htag=\"li\"> <span class=\"cf\" hclass=\"cf\" htag=\"span\">get something for something</span> <span class=\"x\">How much did you get for your car?</span></li><li class=\"\" htag=\"li\"><span class=\"x\">We got £420 000 for the house.</span></li></ul> </li></span><span class=\"shcut-g\" id=\"get_sngs_2\"> <h2 class=\"shcut\" hclass=\"shcut\" htag=\"h2\" id=\"get_shcut_2\">bring</h2><li cefr=\"a1\" class=\"sense\" hclass=\"sense\" htag=\"li\" id=\"get_sng_4\" ox3000=\"y\" sensenum=\"5\"><span class=\"sensetop\" hclass=\"sensetop\" htag=\"span\"><div class=\"symbols\" hclass=\"symbols\" htag=\"div\"><a href=\"https://www.oxfordlearnersdictionaries.com/wordlists/oxford3000-5000?dataset=english&amp;list=ox3000&amp;level=a1\"><span class=\"ox3ksym_a1\"> </span></a></div></span> <span class=\"grammar\" hclass=\"grammar\" htag=\"span\">[transitive]</span> <span class=\"def\" hclass=\"def\" htag=\"span\">to go to a place and bring somebody/something back</span> <span class=\"xrefs\" hclass=\"xrefs\" htag=\"span\" xt=\"nsyn\"><span class=\"prefix\">synonym</span> <a class=\"Ref\" href=\"https://www.oxfordlearnersdictionaries.com/definition/english/fetch\" title=\"fetch definition\"><span bord=\"n\" class=\"xr-g\" href=\"fetch_e\"><span class=\"xh\">fetch</span></span></a></span><ul class=\"examples\" hclass=\"examples\" htag=\"ul\"><li class=\"\" htag=\"li\"> <span class=\"cf\" hclass=\"cf\" htag=\"span\">get somebody/something</span> <span class=\"x\">Quick—<span class=\"cl\">go and get</span> a cloth!</span></li><li class=\"\" htag=\"li\"><span class=\"x\">Somebody get a doctor!</span></li><li class=\"\" htag=\"li\"><span class=\"x\">She went to <span class=\"cl\">get help</span>.</span></li><li class=\"\" htag=\"li\"><span class=\"x\">I have to go and get my mother from the airport <span class=\"gloss\" hclass=\"gloss\" htag=\"span\">(= collect her)</span>.</span></li><li class=\"\" htag=\"li\"> <span class=\"cf\" hclass=\"cf\" htag=\"span\">get something for somebody</span> <span class=\"x\">Get a drink for John.</span></li><li class=\"\" htag=\"li\"> <span class=\"cf\" hclass=\"cf\" htag=\"span\">get somebody/yourself something</span> <span class=\"x\">Get John a drink.</span></li></ul><div class=\"collapse\" hclass=\"collapse\" htag=\"div\"><span class=\"unbox\" id=\"get_unbox_2\" unbox=\"extra_examples\"><span class=\"box_title\">Extra Examples</span><ul class=\"examples\" hclass=\"examples\" htag=\"ul\"><li class=\"\" htag=\"li\"><span class=\"unx\">She's gone to get a few more chairs.</span></li><li class=\"\" htag=\"li\"><span class=\"unx\">Could you go upstairs and get my wallet for me, please?</span></li><li class=\"\" htag=\"li\"><span class=\"unx\">Can I get you anything to eat or drink?</span></li></ul></span></div> </li></span><span class=\"shcut-g\" id=\"get_sngs_6\"> <h2 class=\"shcut\" hclass=\"shcut\" htag=\"h2\" id=\"get_shcut_6\">mark/grade</h2><li cefr=\"a1\" class=\"sense\" hclass=\"sense\" htag=\"li\" id=\"get_sng_8\" ox3000=\"y\" sensenum=\"6\"><span class=\"sensetop\" hclass=\"sensetop\" htag=\"span\"><div class=\"symbols\" hclass=\"symbols\" htag=\"div\"><a href=\"https://www.oxfordlearnersdictionaries.com/wordlists/oxford3000-5000?dataset=english&amp;list=ox3000&amp;level=a1\"><span class=\"ox3ksym_a1\"> </span></a></div></span> <span class=\"grammar\" hclass=\"grammar\" htag=\"span\">[transitive, no passive]</span> <span class=\"cf\" hclass=\"cf\" htag=\"span\">get something</span> <span class=\"def\" hclass=\"def\" htag=\"span\">to achieve or be given a particular mark or grade in an exam</span><ul class=\"examples\" hclass=\"examples\" htag=\"ul\"><li class=\"\" htag=\"li\"><span class=\"x\">He got a ‘C’ in Chemistry and a ‘B’ in English.</span></li></ul> </li></span><span class=\"shcut-g\" id=\"get_sngs_7\"> <h2 class=\"shcut\" hclass=\"shcut\" htag=\"h2\" id=\"get_shcut_7\">illness</h2><li cefr=\"a1\" class=\"sense\" hclass=\"sense\" htag=\"li\" id=\"get_sng_9\" ox3000=\"y\" sensenum=\"7\"><span class=\"sensetop\" hclass=\"sensetop\" htag=\"span\"><div class=\"symbols\" hclass=\"symbols\" htag=\"div\"><a href=\"https://www.oxfordlearnersdictionaries.com/wordlists/oxford3000-5000?dataset=english&amp;list=ox3000&amp;level=a1\"><span class=\"ox3ksym_a1\"> </span></a></div></span> <span class=\"grammar\" hclass=\"grammar\" htag=\"span\">[transitive, no passive]</span> <span class=\"cf\" hclass=\"cf\" htag=\"span\">get something</span> <span class=\"def\" hclass=\"def\" htag=\"span\">to start to develop an illness; to suffer from a pain, etc.</span><ul class=\"examples\" hclass=\"examples\" htag=\"ul\"><li class=\"\" htag=\"li\"><span class=\"x\">I got this cold off <span class=\"gloss\" hclass=\"gloss\" htag=\"span\">(= from)</span> you!</span></li><li class=\"\" htag=\"li\"><span class=\"x\">She gets <span class=\"gloss\" hclass=\"gloss\" htag=\"span\">(= often suffers from)</span> really bad headaches.</span></li><li class=\"\" htag=\"li\"><span class=\"x\">I think I'm getting a cold.</span></li></ul><span class=\"topic-g\"><span class=\"prefix\">Topics </span><a class=\"Ref\" href=\"https://www.oxfordlearnersdictionaries.com/topic/illness?level=a1\" title=\"Topic illness\"><span class=\"topic\" href=\"l2:health:illness?cefr=a1\"><span class=\"topic_name\">Illness</span><span class=\"topic_cefr\">a1</span></span></a></span> <div class=\"\"> <div class=\"am-default contentslot\" id=\"ad_contentslot_2\">\n",
       "<script type=\"text/javascript\">googletag.cmd.push(function() { googletag.display('ad_contentslot_2'); });</script>\n",
       "</div>\n",
       "</div> </li></span><span class=\"shcut-g\" id=\"get_sngs_3\"> <h2 class=\"shcut\" hclass=\"shcut\" htag=\"h2\" id=\"get_shcut_3\">punishment</h2><li class=\"sense\" hclass=\"sense\" htag=\"li\" id=\"get_sng_5\" sensenum=\"8\"><span class=\"sensetop\" hclass=\"sensetop\" htag=\"span\"><span class=\"grammar\" hclass=\"grammar\" htag=\"span\">[transitive, no passive]</span></span> <span class=\"cf\" hclass=\"cf\" htag=\"span\">get something</span> <span class=\"def\" hclass=\"def\" htag=\"span\">to receive something as a punishment</span><ul class=\"examples\" hclass=\"examples\" htag=\"ul\"><li class=\"\" htag=\"li\"><span class=\"x\">He got ten years <span class=\"gloss\" hclass=\"gloss\" htag=\"span\">(= was sent to prison for ten years)</span> for armed robbery.</span></li></ul> </li></span><span class=\"shcut-g\" id=\"get_sngs_4\"> <h2 class=\"shcut\" hclass=\"shcut\" htag=\"h2\" id=\"get_shcut_4\">internet/phone/broadcasts</h2><li class=\"sense\" hclass=\"sense\" htag=\"li\" id=\"get_sng_6\" sensenum=\"9\"><span class=\"sensetop\" hclass=\"sensetop\" htag=\"span\"><span class=\"grammar\" hclass=\"grammar\" htag=\"span\">[transitive, no passive]</span></span> <span class=\"cf\" hclass=\"cf\" htag=\"span\">get something</span> <span class=\"def\" hclass=\"def\" htag=\"span\">to connect to the internet or a phone network; to receive broadcasts from a particular television or radio station</span><ul class=\"examples\" hclass=\"examples\" htag=\"ul\"><li class=\"\" htag=\"li\"><span class=\"x\">95 per cent of the UK can now get superfast broadband.</span></li><li class=\"\" htag=\"li\"><span class=\"x\">I couldn't get any mobile phone reception.</span></li><li class=\"\" htag=\"li\"><span class=\"x\">We can't get Channel 5 in our area.</span></li></ul> </li></span><span class=\"shcut-g\" id=\"get_sngs_8\"> <h2 class=\"shcut\" hclass=\"shcut\" htag=\"h2\" id=\"get_shcut_8\">contact</h2><li class=\"sense\" hclass=\"sense\" htag=\"li\" id=\"get_sng_10\" sensenum=\"10\"><span class=\"sensetop\" hclass=\"sensetop\" htag=\"span\"><span class=\"grammar\" hclass=\"grammar\" htag=\"span\">[transitive, no passive]</span></span> <span class=\"cf\" hclass=\"cf\" htag=\"span\">get somebody</span> <span class=\"def\" hclass=\"def\" htag=\"span\">to be connected with somebody by phone</span><ul class=\"examples\" hclass=\"examples\" htag=\"ul\"><li class=\"\" htag=\"li\"><span class=\"x\">I wanted to speak to the manager but I got his secretary instead.</span></li></ul> </li></span><span class=\"shcut-g\" id=\"get_sngs_14\"> <h2 class=\"shcut\" hclass=\"shcut\" htag=\"h2\" id=\"get_shcut_14\">arrive</h2><li cefr=\"a1\" class=\"sense\" hclass=\"sense\" htag=\"li\" id=\"get_sng_17\" ox3000=\"y\" sensenum=\"11\"><span class=\"sensetop\" hclass=\"sensetop\" htag=\"span\"><div class=\"symbols\" hclass=\"symbols\" htag=\"div\"><a href=\"https://www.oxfordlearnersdictionaries.com/wordlists/oxford3000-5000?dataset=english&amp;list=ox3000&amp;level=a1\"><span class=\"ox3ksym_a1\"> </span></a></div></span> <span class=\"grammar\" hclass=\"grammar\" htag=\"span\">[intransitive]</span> <span class=\"cf\" hclass=\"cf\" htag=\"span\">+ adv./prep.</span> <span class=\"def\" hclass=\"def\" htag=\"span\">to arrive at or reach a place or point</span><ul class=\"examples\" hclass=\"examples\" htag=\"ul\"><li class=\"\" htag=\"li\"><span class=\"x\">We got to San Diego at 7 o'clock.</span></li><li class=\"\" htag=\"li\"><span class=\"x\">We're aiming to get to the party at about nine.</span></li><li class=\"\" htag=\"li\"><span class=\"x\">You got in very late last night.</span></li><li class=\"\" htag=\"li\"><span class=\"x\">I got back an hour ago.</span></li><li class=\"\" htag=\"li\"><span class=\"x\">Wait till we get home.</span></li><li class=\"\" htag=\"li\"><span class=\"x\">What time did you get here?</span></li><li class=\"\" htag=\"li\"><span class=\"x\">Let me know when you <span class=\"cl\">get there</span>.</span></li><li class=\"\" htag=\"li\"><span class=\"x\">I haven't got very far with the book I'm reading.</span></li></ul> </li></span><span class=\"shcut-g\" id=\"get_sngs_15\"> <h2 class=\"shcut\" hclass=\"shcut\" htag=\"h2\" id=\"get_shcut_15\">move/travel</h2><li cefr=\"a1\" class=\"sense\" hclass=\"sense\" htag=\"li\" id=\"get_sng_18\" ox3000=\"y\" sensenum=\"12\"><span class=\"sensetop\" hclass=\"sensetop\" htag=\"span\"><div class=\"symbols\" hclass=\"symbols\" htag=\"div\"><a href=\"https://www.oxfordlearnersdictionaries.com/wordlists/oxford3000-5000?dataset=english&amp;list=ox3000&amp;level=a1\"><span class=\"ox3ksym_a1\"> </span></a></div></span> <span class=\"grammar\" hclass=\"grammar\" htag=\"span\">[intransitive, transitive]</span> <span class=\"def\" hclass=\"def\" htag=\"span\">to move to or from a particular place or in a particular direction, sometimes with difficulty; to make somebody/something do this</span><ul class=\"examples\" hclass=\"examples\" htag=\"ul\"><li class=\"\" htag=\"li\"> <span class=\"cf\" hclass=\"cf\" htag=\"span\">+ adv./prep.</span> <span class=\"x\">The bridge was destroyed so we couldn't get across the river.</span></li><li class=\"\" htag=\"li\"><span class=\"x\">She got into bed.</span></li><li class=\"\" htag=\"li\"><span class=\"x\">He got down from the ladder.</span></li><li class=\"\" htag=\"li\"><span class=\"x\">We didn't <span class=\"cl\">get</span> <span class=\"gloss\" hclass=\"gloss\" htag=\"span\">(= go)</span> <span class=\"cl\">to bed</span> until 3 a.m.</span></li><li class=\"\" htag=\"li\"><span class=\"x\">Where do we <span class=\"cl\">get on</span> the bus?</span></li><li class=\"\" htag=\"li\"><span class=\"x\">I'm <span class=\"cl\">getting off</span> <span class=\"gloss\" hclass=\"gloss\" htag=\"span\">(= leaving the train)</span> at the next station.</span></li><li class=\"\" htag=\"li\"><span class=\"x\">Where have they <span class=\"cl\">got to</span> <span class=\"gloss\" hclass=\"gloss\" htag=\"span\">(= where are they)</span>?</span></li><li class=\"\" htag=\"li\"><span class=\"x\">We must be getting home; it's past midnight.</span></li><li class=\"\" htag=\"li\"> <span class=\"cf\" hclass=\"cf\" htag=\"span\">get somebody/something + adv./prep.</span> <span class=\"x\">We couldn't get the piano through the door.</span></li><li class=\"\" htag=\"li\"><span class=\"x\">We'd better call a taxi and get you home.</span></li><li class=\"\" htag=\"li\"><span class=\"x\">The general had to get his troops across the river.</span></li><li class=\"\" htag=\"li\"><span class=\"x\">I can't get the lid off.</span></li></ul><div class=\"collapse\" hclass=\"collapse\" htag=\"div\"><span class=\"unbox\" id=\"get_unbox_3\" unbox=\"extra_examples\"><span class=\"box_title\">Extra Examples</span><ul class=\"examples\" hclass=\"examples\" htag=\"ul\"><li class=\"\" htag=\"li\"><span class=\"unx\">How can we get to the other side of town?</span></li><li class=\"\" htag=\"li\"><span class=\"unx\">I don't know how he managed to get down from the roof.</span></li><li class=\"\" htag=\"li\"><span class=\"unx\">It takes an hour to get from Oxford to London.</span></li><li class=\"\" htag=\"li\"><span class=\"unx\">We only got as far as the next town.</span></li><li class=\"\" htag=\"li\"><span class=\"unx\">You can get to the hotel by bus or taxi.</span></li></ul></span></div> <div class=\"\"> <div class=\"am-default contentslot\" id=\"ad_contentslot_3\">\n",
       "<script type=\"text/javascript\">googletag.cmd.push(function() { googletag.display('ad_contentslot_3'); });</script>\n",
       "</div>\n",
       "</div> </li><li cefr=\"a1\" class=\"sense\" hclass=\"sense\" htag=\"li\" id=\"get_sng_19\" ox3000=\"y\" sensenum=\"13\"><span class=\"sensetop\" hclass=\"sensetop\" htag=\"span\"><div class=\"symbols\" hclass=\"symbols\" htag=\"div\"><a href=\"https://www.oxfordlearnersdictionaries.com/wordlists/oxford3000-5000?dataset=english&amp;list=ox3000&amp;level=a1\"><span class=\"ox3ksym_a1\"> </span></a></div></span> <span class=\"grammar\" hclass=\"grammar\" htag=\"span\">[transitive, no passive]</span> <span class=\"cf\" hclass=\"cf\" htag=\"span\">get something</span> <span class=\"def\" hclass=\"def\" htag=\"span\">to use a bus, taxi, plane, etc.</span><ul class=\"examples\" hclass=\"examples\" htag=\"ul\"><li class=\"\" htag=\"li\"><span class=\"x\">We're going to be late—let's get a taxi.</span></li><li class=\"\" htag=\"li\"><span class=\"x\">I usually get the bus to work.</span></li></ul><div class=\"collapse\" hclass=\"collapse\" htag=\"div\"><span class=\"unbox\" id=\"get_unbox_4\" unbox=\"extra_examples\"><span class=\"box_title\">Extra Examples</span><ul class=\"examples\" hclass=\"examples\" htag=\"ul\"><li class=\"\" htag=\"li\"><span class=\"unx\">Get a train to Newport and then get a bus from the station.</span></li><li class=\"\" htag=\"li\"><span class=\"unx\">He got the next plane home.</span></li><li class=\"\" htag=\"li\"><span class=\"unx\">I ran all the way to the station and just managed to get my train.</span></li><li class=\"\" htag=\"li\"><span class=\"unx\">I'll try and get a flight home tomorrow.</span></li><li class=\"\" htag=\"li\"><span class=\"unx\">You won't be able to get a plane there—there's no airport.</span></li></ul></span></div><span class=\"topic-g\"><span class=\"prefix\">Topics </span><a class=\"Ref\" href=\"https://www.oxfordlearnersdictionaries.com/topic/transport-by-bus-and-train?level=a1\" title=\"Topic transport-by-bus-and-train\"><span class=\"topic\" href=\"l2:travel:transport_by_bus_and_train?cefr=a1\"><span class=\"topic_name\">Transport by bus and train</span><span class=\"topic_cefr\">a1</span></span></a></span> </li></span><span class=\"shcut-g\" id=\"get_sngs_9\"> <h2 class=\"shcut\" hclass=\"shcut\" htag=\"h2\" id=\"get_shcut_9\">state/condition</h2><li cefr=\"a2\" class=\"sense\" hclass=\"sense\" htag=\"li\" id=\"get_sng_11\" ox3000=\"y\" sensenum=\"14\"><span class=\"sensetop\" hclass=\"sensetop\" htag=\"span\"><div class=\"symbols\" hclass=\"symbols\" htag=\"div\"><a href=\"https://www.oxfordlearnersdictionaries.com/wordlists/oxford3000-5000?dataset=english&amp;list=ox3000&amp;level=a2\"><span class=\"ox3ksym_a2\"> </span></a></div></span> <span class=\"pos\" hclass=\"pos\" htag=\"span\">linking verb</span> <span class=\"def\" hclass=\"def\" htag=\"span\">to reach a particular state or condition; to make somebody/something/yourself reach a particular state or condition</span><ul class=\"examples\" hclass=\"examples\" htag=\"ul\"><li class=\"\" htag=\"li\"> <span class=\"cf\" hclass=\"cf\" htag=\"span\">+ adj.</span> <span class=\"x\">to get angry/bored/hungry/fat</span></li><li class=\"\" htag=\"li\"><span class=\"x\">to <span class=\"cl\">get better/worse</span></span></li><li class=\"\" htag=\"li\"><span class=\"x\">You'll soon <span class=\"cl\">get used to</span> the climate here.</span></li><li class=\"\" htag=\"li\"><span class=\"x\">We ought to go; it's getting late.</span></li><li class=\"\" htag=\"li\"><span class=\"x\">to <span class=\"cl\">get dressed/undressed</span> <span class=\"gloss\" hclass=\"gloss\" htag=\"span\">(= to put your clothes on/take your clothes off)</span></span></li><li class=\"\" htag=\"li\"><span class=\"x\">They plan to <span class=\"cl\">get married</span> in the summer.</span></li><li class=\"\" htag=\"li\"><span class=\"x\">She's upstairs <span class=\"cl\">getting ready</span>.</span></li><li class=\"\" htag=\"li\"><span class=\"x\">As he's <span class=\"cl\">got older</span> his tastes have changed.</span></li><li class=\"\" htag=\"li\"><span class=\"x\">She was <span class=\"cl\">getting sick</span> of hearing him complain.</span></li><li class=\"\" htag=\"li\"><span class=\"x\">There's nothing to <span class=\"cl\">get excited</span> about.</span></li><li class=\"\" htag=\"li\"><span class=\"x\">He <span class=\"cl\">got drunk</span> and passed out.</span></li><li class=\"\" htag=\"li\"><span class=\"x\">I was starting to <span class=\"cl\">get tired</span>.</span></li><li class=\"\" htag=\"li\"><span class=\"x\">I wouldn't go there alone; you might get <span class=\"gloss\" hclass=\"gloss\" htag=\"span\">(= be)</span> mugged.</span></li><li class=\"\" htag=\"li\"><span class=\"x\">My car got <span class=\"gloss\" hclass=\"gloss\" htag=\"span\">(= was)</span> stolen at the weekend.</span></li><li class=\"\" htag=\"li\"> <span class=\"cf\" hclass=\"cf\" htag=\"span\">get somebody/something + adj.</span> <span class=\"x\">Don't get your dress dirty!</span></li><li class=\"\" htag=\"li\"><span class=\"x\">He got his fingers caught in the door.</span></li><li class=\"\" htag=\"li\"><span class=\"x\">She soon got the children ready for school.</span></li></ul> </li><li cefr=\"b1\" class=\"sense\" hclass=\"sense\" htag=\"li\" id=\"get_sng_12\" ox3000=\"y\" sensenum=\"15\"><span class=\"sensetop\" hclass=\"sensetop\" htag=\"span\"><div class=\"symbols\" hclass=\"symbols\" htag=\"div\"><a href=\"https://www.oxfordlearnersdictionaries.com/wordlists/oxford3000-5000?dataset=english&amp;list=ox3000&amp;level=b1\"><span class=\"ox3ksym_b1\"> </span></a></div></span> <span class=\"grammar\" hclass=\"grammar\" htag=\"span\">[intransitive]</span> <span class=\"cf\" hclass=\"cf\" htag=\"span\">get to do something</span> <span class=\"def\" hclass=\"def\" htag=\"span\">to reach the point at which you feel, know, are, etc. something</span><ul class=\"examples\" hclass=\"examples\" htag=\"ul\"><li class=\"\" htag=\"li\"><span class=\"x\">After a time you get to realize that these things don't matter.</span></li><li class=\"\" htag=\"li\"><span class=\"x\">You'll like her once you <span class=\"cl\">get to know</span> her.</span></li><li class=\"\" htag=\"li\"><span class=\"x\">His drinking is getting to be a problem.</span></li><li class=\"\" htag=\"li\"><span class=\"x\">She's getting to be an old lady now.</span></li></ul> </li></span><span class=\"shcut-g\" id=\"get_sngs_11\"> <h2 class=\"shcut\" hclass=\"shcut\" htag=\"h2\" id=\"get_shcut_11\">get something done</h2><li cefr=\"b1\" class=\"sense\" hclass=\"sense\" htag=\"li\" id=\"get_sng_14\" ox3000=\"y\" sensenum=\"16\"><span class=\"sensetop\" hclass=\"sensetop\" htag=\"span\"><div class=\"symbols\" hclass=\"symbols\" htag=\"div\"><a href=\"https://www.oxfordlearnersdictionaries.com/wordlists/oxford3000-5000?dataset=english&amp;list=ox3000&amp;level=b1\"><span class=\"ox3ksym_b1\"> </span></a></div></span> <span class=\"grammar\" hclass=\"grammar\" htag=\"span\">[transitive]</span> <span class=\"cf\" hclass=\"cf\" htag=\"span\">get something done</span> <span class=\"def\" hclass=\"def\" htag=\"span\">to cause something to happen or be done</span><ul class=\"examples\" hclass=\"examples\" htag=\"ul\"><li class=\"\" htag=\"li\"><span class=\"x\">I must get my hair cut.</span></li><li class=\"\" htag=\"li\"><span class=\"x\">I'll never get all this work finished.</span></li><li class=\"\" htag=\"li\"><span class=\"x\">She has a reputation for <span class=\"cl\">getting things done</span>.</span></li></ul> </li></span><span class=\"shcut-g\" id=\"get_sngs_10\"> <h2 class=\"shcut\" hclass=\"shcut\" htag=\"h2\" id=\"get_shcut_10\">make/persuade</h2><li cefr=\"b2\" class=\"sense\" hclass=\"sense\" htag=\"li\" id=\"get_sng_13\" ox3000=\"y\" sensenum=\"17\"><span class=\"sensetop\" hclass=\"sensetop\" htag=\"span\"><div class=\"symbols\" hclass=\"symbols\" htag=\"div\"><a href=\"https://www.oxfordlearnersdictionaries.com/wordlists/oxford3000-5000?dataset=english&amp;list=ox3000&amp;level=b2\"><span class=\"ox3ksym_b2\"> </span></a></div></span> <span class=\"grammar\" hclass=\"grammar\" htag=\"span\">[transitive]</span> <span class=\"def\" hclass=\"def\" htag=\"span\">to make, persuade, etc. somebody/something to do something</span><ul class=\"examples\" hclass=\"examples\" htag=\"ul\"><li class=\"\" htag=\"li\"> <span class=\"cf\" hclass=\"cf\" htag=\"span\">get somebody/something to do something</span> <span class=\"x\">I couldn't get the car to start this morning.</span></li><li class=\"\" htag=\"li\"><span class=\"x\">He got his sister to help him with his homework.</span></li><li class=\"\" htag=\"li\"><span class=\"x\">You'll never get him to understand.</span></li><li class=\"\" htag=\"li\"> <span class=\"cf\" hclass=\"cf\" htag=\"span\">get somebody/something doing something</span> <span class=\"x\">It's not hard to get him talking—the problem is stopping him!</span></li><li class=\"\" htag=\"li\"><span class=\"x\">Can you really get that old car going again?</span></li></ul><div class=\"collapse\" hclass=\"collapse\" htag=\"div\"><span class=\"unbox\" id=\"get_unbox_5\" unbox=\"extra_examples\"><span class=\"box_title\">Extra Examples</span><ul class=\"examples\" hclass=\"examples\" htag=\"ul\"><li class=\"\" htag=\"li\"><span class=\"unx\">I finally got Michael to talk to them and he explained everything.</span></li><li class=\"\" htag=\"li\"><span class=\"unx\">We had trouble getting enough people to sign up.</span></li></ul></span></div><span class=\"topic-g\"><span class=\"prefix\">Topics </span><a class=\"Ref\" href=\"https://www.oxfordlearnersdictionaries.com/topic/discussion-and-agreement?level=b2\" title=\"Topic discussion-and-agreement\"><span class=\"topic\" href=\"l2:functions:discussion_and_agreement?cefr=b2\"><span class=\"topic_name\">Discussion and agreement</span><span class=\"topic_cefr\">b2</span></span></a></span> <div class=\"\"> <div class=\"am-default contentslot\" id=\"ad_contentslot_4\">\n",
       "<script type=\"text/javascript\">googletag.cmd.push(function() { googletag.display('ad_contentslot_4'); });</script>\n",
       "</div>\n",
       "</div> </li></span><span class=\"shcut-g\" id=\"get_sngs_12\"> <h2 class=\"shcut\" hclass=\"shcut\" htag=\"h2\" id=\"get_shcut_12\">start</h2><li class=\"sense\" hclass=\"sense\" htag=\"li\" id=\"get_sng_15\" sensenum=\"18\"><span class=\"sensetop\" hclass=\"sensetop\" htag=\"span\"><span class=\"grammar\" hclass=\"grammar\" htag=\"span\">[transitive]</span></span> <span class=\"cf\" hclass=\"cf\" htag=\"span\">get doing something</span> <span class=\"def\" hclass=\"def\" htag=\"span\">to start doing something</span><ul class=\"examples\" hclass=\"examples\" htag=\"ul\"><li class=\"\" htag=\"li\"><span class=\"x\">I got talking to her.</span></li><li class=\"\" htag=\"li\"><span class=\"x\">We need to <span class=\"cl\">get going</span> soon.</span></li></ul> </li></span><span class=\"shcut-g\" id=\"get_sngs_13\"> <h2 class=\"shcut\" hclass=\"shcut\" htag=\"h2\" id=\"get_shcut_13\">opportunity</h2><li class=\"sense\" hclass=\"sense\" htag=\"li\" id=\"get_sng_16\" sensenum=\"19\"><span class=\"sensetop\" hclass=\"sensetop\" htag=\"span\"><span class=\"grammar\" hclass=\"grammar\" htag=\"span\">[intransitive]</span></span> <span class=\"cf\" hclass=\"cf\" htag=\"span\">get to do something</span> <span class=\"labels\" hclass=\"labels\" htag=\"span\">(informal)</span> <span class=\"def\" hclass=\"def\" htag=\"span\">to have the opportunity to do something</span><ul class=\"examples\" hclass=\"examples\" htag=\"ul\"><li class=\"\" htag=\"li\"><span class=\"x\">He got to try out all the new software.</span></li><li class=\"\" htag=\"li\"><span class=\"x\">It's not fair—I never get to go first.</span></li></ul> </li></span><span class=\"shcut-g\" id=\"get_sngs_16\"> <h2 class=\"shcut\" hclass=\"shcut\" htag=\"h2\" id=\"get_shcut_16\">meal</h2><li class=\"sense\" hclass=\"sense\" htag=\"li\" id=\"get_sng_20\" sensenum=\"20\"><span class=\"sensetop\" hclass=\"sensetop\" htag=\"span\"><span class=\"grammar\" hclass=\"grammar\" htag=\"span\">[transitive]</span></span> <span class=\"labels\" hclass=\"labels\" htag=\"span\">(especially British English)</span> <span class=\"def\" hclass=\"def\" htag=\"span\">to prepare a meal</span><ul class=\"examples\" hclass=\"examples\" htag=\"ul\"><li class=\"\" htag=\"li\"> <span class=\"cf\" hclass=\"cf\" htag=\"span\">get something</span> <span class=\"x\">Who's getting the lunch?</span></li><li class=\"\" htag=\"li\"><span class=\"x\">You sit down and relax. I'll get supper.</span></li><li class=\"\" htag=\"li\"> <span class=\"cf\" hclass=\"cf\" htag=\"span\">get something for somebody/yourself</span> <span class=\"x\">I must go home and get tea for the kids.</span></li><li class=\"\" htag=\"li\"> <span class=\"cf\" hclass=\"cf\" htag=\"span\">get somebody/yourself something</span> <span class=\"x\">I must go home and get the kids their tea.</span></li></ul> </li></span><span class=\"shcut-g\" id=\"get_sngs_17\"> <h2 class=\"shcut\" hclass=\"shcut\" htag=\"h2\" id=\"get_shcut_17\">telephone/door</h2><li class=\"sense\" hclass=\"sense\" htag=\"li\" id=\"get_sng_21\" sensenum=\"21\"><span class=\"sensetop\" hclass=\"sensetop\" htag=\"span\"><span class=\"grammar\" hclass=\"grammar\" htag=\"span\">[transitive, no passive]</span></span> <span class=\"cf\" hclass=\"cf\" htag=\"span\">get something</span> <span class=\"labels\" hclass=\"labels\" htag=\"span\">(informal)</span> <span class=\"def\" hclass=\"def\" htag=\"span\">to answer the phone or a door when somebody calls, knocks, etc.</span><ul class=\"examples\" hclass=\"examples\" htag=\"ul\"><li class=\"\" htag=\"li\"><span class=\"x\">Will you get the phone?</span></li></ul> </li></span><span class=\"shcut-g\" id=\"get_sngs_18\"> <h2 class=\"shcut\" hclass=\"shcut\" htag=\"h2\" id=\"get_shcut_18\">catch/hit</h2><li class=\"sense\" hclass=\"sense\" htag=\"li\" id=\"get_sng_22\" sensenum=\"22\"><span class=\"sensetop\" hclass=\"sensetop\" htag=\"span\"><span class=\"grammar\" hclass=\"grammar\" htag=\"span\">[transitive]</span></span> <span class=\"cf\" hclass=\"cf\" htag=\"span\">get somebody</span> <span class=\"def\" hclass=\"def\" htag=\"span\">to catch or take hold of somebody, especially in order to harm or punish them</span><ul class=\"examples\" hclass=\"examples\" htag=\"ul\"><li class=\"\" htag=\"li\"><span class=\"x\">He was on the run for a week before the police got him.</span></li><li class=\"\" htag=\"li\"><span class=\"x\">to get somebody by the arm/wrist/throat</span></li><li class=\"\" htag=\"li\"><span class=\"x\">She fell overboard and the sharks got her.</span></li><li class=\"\" htag=\"li\"><span class=\"x\">He thinks everybody is <span class=\"cl\">out to get him</span> <span class=\"gloss\" hclass=\"gloss\" htag=\"span\">(= trying to harm him)</span>.</span></li><li class=\"\" htag=\"li\"> <span class=\"labels\" hclass=\"labels\" htag=\"span\">(informal)</span> <span class=\"x\"><span class=\"cl\">I'll get you</span> for that!</span></li></ul> <div class=\"\"> <div class=\"am-default contentslot\" id=\"ad_contentslot_5\">\n",
       "<script type=\"text/javascript\">googletag.cmd.push(function() { googletag.display('ad_contentslot_5'); });</script>\n",
       "</div>\n",
       "</div> </li><li class=\"sense\" hclass=\"sense\" htag=\"li\" id=\"get_sng_23\" sensenum=\"23\"><span class=\"sensetop\" hclass=\"sensetop\" htag=\"span\"><span class=\"grammar\" hclass=\"grammar\" htag=\"span\">[transitive]</span></span> <span class=\"cf\" hclass=\"cf\" htag=\"span\">get somebody + adv./prep.</span> <span class=\"def\" hclass=\"def\" htag=\"span\">to hit or wound somebody</span><ul class=\"examples\" hclass=\"examples\" htag=\"ul\"><li class=\"\" htag=\"li\"><span class=\"x\">The bullet got him in the neck.</span></li></ul> </li></span><span class=\"shcut-g\" id=\"get_sngs_19\"> <h2 class=\"shcut\" hclass=\"shcut\" htag=\"h2\" id=\"get_shcut_19\">understand</h2><li class=\"sense\" hclass=\"sense\" htag=\"li\" id=\"get_sng_24\" sensenum=\"24\"><span class=\"sensetop\" hclass=\"sensetop\" htag=\"span\"><span class=\"grammar\" hclass=\"grammar\" htag=\"span\">[transitive, no passive]</span></span> <span class=\"cf\" hclass=\"cf\" htag=\"span\">get somebody/something</span> <span class=\"labels\" hclass=\"labels\" htag=\"span\">(informal)</span> <span class=\"def\" hclass=\"def\" htag=\"span\">to understand somebody/something</span><ul class=\"examples\" hclass=\"examples\" htag=\"ul\"><li class=\"\" htag=\"li\"><span class=\"x\">I don't get you.</span></li><li class=\"\" htag=\"li\"><span class=\"x\">She didn't get the joke.</span></li><li class=\"\" htag=\"li\"><span class=\"x\">I <span class=\"cl\">don't get it</span>—why would she do a thing like that?</span></li><li class=\"\" htag=\"li\"><span class=\"x\">I <span class=\"cl\">get the message</span>—you don't want me to come.</span></li></ul><div class=\"collapse\" hclass=\"collapse\" htag=\"div\"><span class=\"unbox\" id=\"get_unbox_6\" unbox=\"synonyms\"><span class=\"box_title\">Synonyms <span class=\"closed\">understand</span></span><span class=\"body\"><span class=\"unbox\">understand</span><ul class=\"inline\"><li class=\"li\">see</li><li class=\"li\">get</li><li class=\"li\">follow</li><li class=\"li\">grasp</li><li class=\"li\">comprehend</li></ul><span class=\"p\">These words all mean to know or realize something, for example why something happens, how something works or what something means.</span><ul class=\"deflist\"><li class=\"li\"><span class=\"dt\">understand</span> <span class=\"dd\">to know or realize the meaning of words, a language, what somebody says, etc; to know or realize how or why something happens, how it works or why it is important:<ul class=\"examples\" hclass=\"examples\" htag=\"ul\"><li class=\"\" htag=\"li\"><span class=\"unx\">I don’t understand the instructions.</span></li><li class=\"\" htag=\"li\"><span class=\"unx\">Doctors still don’t understand much about the disease.</span></li></ul></span></li><li class=\"li\"><span class=\"dt\">see</span> <span class=\"dd\">to understand what is happening, what somebody is saying, how something works or how important something is:<ul class=\"examples\" hclass=\"examples\" htag=\"ul\"><li class=\"\" htag=\"li\"><span class=\"unx\">‘It opens like this.’ ‘Oh, <span class=\"eb\">I see</span>.’</span></li><li class=\"\" htag=\"li\"><span class=\"unx\">Oh yes, <span class=\"eb\">I see what you mean</span>.</span></li></ul></span></li><li class=\"li\"><span class=\"dt\">get</span> <span class=\"dd\">(<span class=\"ei\">informal</span>) to understand a joke, what somebody is trying to tell you, or a situation that they are trying to describe:<ul class=\"examples\" hclass=\"examples\" htag=\"ul\"><li class=\"\" htag=\"li\"><span class=\"unx\">She didn’t get the joke.</span></li><li class=\"\" htag=\"li\"><span class=\"unx\">I don’t get you.</span></li></ul></span></li><li class=\"li\"><span class=\"dt\">follow</span> <span class=\"dd\">to understand an explanation, a story or the meaning of something:<ul class=\"examples\" hclass=\"examples\" htag=\"ul\"><li class=\"\" htag=\"li\"><span class=\"unx\">Sorry—I don’t quite follow.</span></li><li class=\"\" htag=\"li\"><span class=\"unx\">The plot is almost impossible to follow.</span></li></ul></span></li><li class=\"li\"><span class=\"dt\">grasp</span> <span class=\"dd\">to come to understand a fact, an idea or how to do something:<ul class=\"examples\" hclass=\"examples\" htag=\"ul\"><li class=\"\" htag=\"li\"><span class=\"unx\">They failed to grasp the importance of his words.</span></li></ul></span></li></ul> <span class=\"un\"><span class=\"h4\">understand or grasp?</span><span class=\"p\">You can use <span class=\"eb\">understand</span> or <span class=\"eb\">grasp</span> for the action of realizing the meaning or importance of something for the first time: <span class=\"ei\">It’s a difficult concept for children to understand/​grasp.</span> Only <span class=\"eb\">understand</span> can be used to talk about languages, words or writing: <span class=\"wx\">I don’t grasp French/​the instructions.</span> </span></span><ul class=\"deflist\"><li class=\"li\"><span class=\"dt\">comprehend</span> <span class=\"dd\">(often used in negative statements) (<span class=\"ei\">formal</span>) to understand a fact, idea or reason:<ul class=\"examples\" hclass=\"examples\" htag=\"ul\"><li class=\"\" htag=\"li\"><span class=\"unx\">The concept of infinity is almost impossible for the human mind to comprehend.</span></li></ul></span></li></ul><span class=\"patterns\">Patterns</span><ul class=\"bullet\"><li class=\"li\">to understand/​see/​get/​follow/​grasp/​comprehend <span class=\"eb\">what/​why/​how…</span></li><li class=\"li\">to understand/​see/​grasp/​comprehend <span class=\"eb\">that…</span></li><li class=\"li\">to understand/​see/​get/​grasp <span class=\"eb\">the point/​idea</span> (of something)</li><li class=\"li\">to be <span class=\"eb\">easy/​difficult/​hard</span> to understand/​see/​follow/​grasp/​comprehend</li><li class=\"li\">to <span class=\"eb\">fully</span> understand/​see/​grasp/​comprehend something</li></ul></span></span></div> </li></span><span class=\"shcut-g\" id=\"get_sngs_20\"> <h2 class=\"shcut\" hclass=\"shcut\" htag=\"h2\" id=\"get_shcut_20\">happen/exist</h2><li class=\"sense\" hclass=\"sense\" htag=\"li\" id=\"get_sng_25\" sensenum=\"25\"><span class=\"sensetop\" hclass=\"sensetop\" htag=\"span\"><span class=\"grammar\" hclass=\"grammar\" htag=\"span\">[transitive, no passive]</span></span> <span class=\"cf\" hclass=\"cf\" htag=\"span\">get something</span> <span class=\"labels\" hclass=\"labels\" htag=\"span\">(informal)</span> <span class=\"def\" hclass=\"def\" htag=\"span\">used to say that something happens or exists</span><ul class=\"examples\" hclass=\"examples\" htag=\"ul\"><li class=\"\" htag=\"li\"><span class=\"x\"><span class=\"cl\">You get</span> <span class=\"gloss\" hclass=\"gloss\" htag=\"span\">(= There are)</span> all these kids hanging around in the street.</span></li><li class=\"\" htag=\"li\"><span class=\"x\">They still get cases of typhoid there.</span></li></ul> </li></span><span class=\"shcut-g\" id=\"get_sngs_21\"> <h2 class=\"shcut\" hclass=\"shcut\" htag=\"h2\" id=\"get_shcut_21\">confuse/annoy</h2><li class=\"sense\" hclass=\"sense\" htag=\"li\" id=\"get_sng_26\" sensenum=\"26\"><span class=\"sensetop\" hclass=\"sensetop\" htag=\"span\"><span class=\"grammar\" hclass=\"grammar\" htag=\"span\">[transitive, no passive]</span></span> <span class=\"cf\" hclass=\"cf\" htag=\"span\">get somebody</span> <span class=\"labels\" hclass=\"labels\" htag=\"span\">(informal)</span> <span class=\"def\" hclass=\"def\" htag=\"span\">to make somebody feel confused because they do not understand something</span> <span class=\"xrefs\" hclass=\"xrefs\" htag=\"span\" xt=\"nsyn\"><span class=\"prefix\">synonym</span> <a class=\"Ref\" href=\"https://www.oxfordlearnersdictionaries.com/definition/english/puzzle_2\" title=\"puzzle definition\"><span bord=\"n\" class=\"xr-g\" href=\"puzzle_subentryg_2:puzzle_topg_3\"><span class=\"xh\">puzzle</span></span></a></span><ul class=\"examples\" hclass=\"examples\" htag=\"ul\"><li class=\"\" htag=\"li\"><span class=\"x\">‘What's the capital of Bhutan?’ ‘<span class=\"cl\">You've got me there!</span>’ <span class=\"gloss\" hclass=\"gloss\" htag=\"span\">(= I don't know)</span></span></li></ul> </li><li class=\"sense\" hclass=\"sense\" htag=\"li\" id=\"get_sng_27\" sensenum=\"27\"><span class=\"sensetop\" hclass=\"sensetop\" htag=\"span\"><span class=\"grammar\" hclass=\"grammar\" htag=\"span\">[transitive, no passive]</span></span> <span class=\"cf\" hclass=\"cf\" htag=\"span\">get somebody</span> <span class=\"labels\" hclass=\"labels\" htag=\"span\">(informal)</span> <span class=\"def\" hclass=\"def\" htag=\"span\">to annoy somebody</span><ul class=\"examples\" hclass=\"examples\" htag=\"ul\"><li class=\"\" htag=\"li\"><span class=\"x\"><span class=\"cl\">What gets me</span> is having to do the same thing all day long.</span></li></ul> <span class=\"un\" un=\"help\"><span class=\"eb\">Get</span> is one of the most common words in English, but some people try to avoid it in formal writing.</span><div class=\"collapse\" hclass=\"collapse\" htag=\"div\"><span class=\"unbox\" id=\"get_unbox_7\" unbox=\"mlt\"><span class=\"box_title\">More Like This <span class=\"closed\">Verbs with two objects</span></span><span class=\"body\"><span class=\"unbox\">Verbs with two objects</span><ul class=\"inline\"><li class=\"li\"><a class=\"Ref\" href=\"https://www.oxfordlearnersdictionaries.com/definition/english/bet_1\" title=\"bet definition\"><span class=\"xref\">bet</span></a></li><li class=\"li\"><a class=\"Ref\" href=\"https://www.oxfordlearnersdictionaries.com/definition/english/bring\" title=\"bring definition\"><span class=\"xref\">bring</span></a></li><li class=\"li\"><a class=\"Ref\" href=\"https://www.oxfordlearnersdictionaries.com/definition/english/build_1\" title=\"build definition\"><span class=\"xref\">build</span></a></li><li class=\"li\"><a class=\"Ref\" href=\"https://www.oxfordlearnersdictionaries.com/definition/english/buy_1\" title=\"buy definition\"><span class=\"xref\">buy</span></a></li><li class=\"li\"><a class=\"Ref\" href=\"https://www.oxfordlearnersdictionaries.com/definition/english/cost_1\" title=\"cost definition\"><span class=\"xref\">cost</span></a></li><li class=\"li\"><a class=\"Ref\" href=\"https://www.oxfordlearnersdictionaries.com/definition/english/get\" title=\"get definition\"><span class=\"xref\">get</span></a></li><li class=\"li\"><a class=\"Ref\" href=\"https://www.oxfordlearnersdictionaries.com/definition/english/give_1\" title=\"give definition\"><span class=\"xref\">give</span></a></li><li class=\"li\"><a class=\"Ref\" href=\"https://www.oxfordlearnersdictionaries.com/definition/english/leave_1\" title=\"leave definition\"><span class=\"xref\">leave</span></a></li><li class=\"li\"><a class=\"Ref\" href=\"https://www.oxfordlearnersdictionaries.com/definition/english/lend\" title=\"lend definition\"><span class=\"xref\">lend</span></a></li><li class=\"li\"><a class=\"Ref\" href=\"https://www.oxfordlearnersdictionaries.com/definition/english/make_1\" title=\"make definition\"><span class=\"xref\">make</span></a></li><li class=\"li\"><a class=\"Ref\" href=\"https://www.oxfordlearnersdictionaries.com/definition/english/offer_1\" title=\"offer definition\"><span class=\"xref\">offer</span></a></li><li class=\"li\"><a class=\"Ref\" href=\"https://www.oxfordlearnersdictionaries.com/definition/english/owe\" title=\"owe definition\"><span class=\"xref\">owe</span></a></li><li class=\"li\"><a class=\"Ref\" href=\"https://www.oxfordlearnersdictionaries.com/definition/english/pass_1\" title=\"pass definition\"><span class=\"xref\">pass</span></a></li><li class=\"li\"><a class=\"Ref\" href=\"https://www.oxfordlearnersdictionaries.com/definition/english/pay_1\" title=\"pay definition\"><span class=\"xref\">pay</span></a></li><li class=\"li\"><a class=\"Ref\" href=\"https://www.oxfordlearnersdictionaries.com/definition/english/play_1\" title=\"play definition\"><span class=\"xref\">play</span></a></li><li class=\"li\"><a class=\"Ref\" href=\"https://www.oxfordlearnersdictionaries.com/definition/english/post_2\" title=\"post definition\"><span class=\"xref\">post</span></a></li><li class=\"li\"><a class=\"Ref\" href=\"https://www.oxfordlearnersdictionaries.com/definition/english/promise_1\" title=\"promise definition\"><span class=\"xref\">promise</span></a></li><li class=\"li\"><a class=\"Ref\" href=\"https://www.oxfordlearnersdictionaries.com/definition/english/read_1\" title=\"read definition\"><span class=\"xref\">read</span></a></li><li class=\"li\"><a class=\"Ref\" href=\"https://www.oxfordlearnersdictionaries.com/definition/english/refuse1\" title=\"refuse definition\"><span class=\"xref\">refuse</span></a></li><li class=\"li\"><a class=\"Ref\" href=\"https://www.oxfordlearnersdictionaries.com/definition/english/sell_1\" title=\"sell definition\"><span class=\"xref\">sell</span></a></li><li class=\"li\"><a class=\"Ref\" href=\"https://www.oxfordlearnersdictionaries.com/definition/english/send\" title=\"send definition\"><span class=\"xref\">send</span></a></li><li class=\"li\"><a class=\"Ref\" href=\"https://www.oxfordlearnersdictionaries.com/definition/english/show_1\" title=\"show definition\"><span class=\"xref\">show</span></a></li><li class=\"li\"><a class=\"Ref\" href=\"https://www.oxfordlearnersdictionaries.com/definition/english/sing_2\" title=\"sing definition\"><span class=\"xref\">sing</span></a></li><li class=\"li\"><a class=\"Ref\" href=\"https://www.oxfordlearnersdictionaries.com/definition/english/take_1\" title=\"take definition\"><span class=\"xref\">take</span></a></li><li class=\"li\"><a class=\"Ref\" href=\"https://www.oxfordlearnersdictionaries.com/definition/english/teach\" title=\"teach definition\"><span class=\"xref\">teach</span></a></li><li class=\"li\"><a class=\"Ref\" href=\"https://www.oxfordlearnersdictionaries.com/definition/english/tell\" title=\"tell definition\"><span class=\"xref\">tell</span></a></li><li class=\"li\"><a class=\"Ref\" href=\"https://www.oxfordlearnersdictionaries.com/definition/english/throw_1\" title=\"throw definition\"><span class=\"xref\">throw</span></a></li><li class=\"li\"><a class=\"Ref\" href=\"https://www.oxfordlearnersdictionaries.com/definition/english/wish_1\" title=\"wish definition\"><span class=\"xref\">wish</span></a></li><li class=\"li\"><a class=\"Ref\" href=\"https://www.oxfordlearnersdictionaries.com/definition/english/write\" title=\"write definition\"><span class=\"xref\">write</span></a></li></ul></span></span></div> <div class=\"\"> <div class=\"am-default contentslot\" id=\"ad_contentslot_6\">\n",
       "<script type=\"text/javascript\">googletag.cmd.push(function() { googletag.display('ad_contentslot_6'); });</script>\n",
       "</div>\n",
       "</div> </li></span><div class=\"collapse\" hclass=\"collapse\" htag=\"div\"><span class=\"unbox\" id=\"get_unbox_2\" unbox=\"wordorigin\"><span class=\"box_title\">Word Origin</span><span class=\"body\"><span class=\"p\">Middle English: from Old Norse <span class=\"ei\">geta</span> ‘obtain, beget, guess’; related to Old English <span class=\"ei\">gietan</span> (in <span class=\"ei\">begietan</span> ‘beget’, <span class=\"ei\">forgietan</span> ‘forget’), from an Indo-European root shared by Latin <span class=\"ei\">praeda</span> ‘booty, prey’, <span class=\"ei\">praehendere</span> ‘get hold of, seize’, and Greek <span class=\"ei\">khandanein</span> ‘hold, contain, be able’.</span></span></span></div></ol>"
      ]
     },
     "execution_count": 27,
     "metadata": {},
     "output_type": "execute_result"
    }
   ],
   "source": [
    "data.find('ol', {'class', 'senses_multiple'})"
   ]
  },
  {
   "cell_type": "code",
   "execution_count": 28,
   "metadata": {},
   "outputs": [],
   "source": [
    "defs = data.find('ol', {'class', 'senses_multiple'}).find_all(class_='sense')\n",
    "#defs = data.find_all(class_='sense')"
   ]
  },
  {
   "cell_type": "code",
   "execution_count": 39,
   "metadata": {},
   "outputs": [
    {
     "data": {
      "text/plain": [
       "<li cefr=\"a1\" class=\"sense\" hclass=\"sense\" htag=\"li\" id=\"get_sng_1\" ox3000=\"y\" sensenum=\"1\"><span class=\"sensetop\" hclass=\"sensetop\" htag=\"span\"><div class=\"symbols\" hclass=\"symbols\" htag=\"div\"><a href=\"https://www.oxfordlearnersdictionaries.com/wordlists/oxford3000-5000?dataset=english&amp;list=ox3000&amp;level=a1\"><span class=\"ox3ksym_a1\"> </span></a></div></span> <span class=\"grammar\" hclass=\"grammar\" htag=\"span\">[transitive, no passive]</span> <span class=\"cf\" hclass=\"cf\" htag=\"span\">get something</span> <span class=\"def\" hclass=\"def\" htag=\"span\">to receive something</span><ul class=\"examples\" hclass=\"examples\" htag=\"ul\"><li class=\"\" htag=\"li\"><span class=\"x\">I <span class=\"cl\">got a call</span> from Dave this morning.</span></li><li class=\"\" htag=\"li\"><span class=\"x\">What <span class=\"gloss\" hclass=\"gloss\" htag=\"span\">(= What presents)</span> did you get for your birthday?</span></li><li class=\"\" htag=\"li\"><span class=\"x\">He gets <span class=\"gloss\" hclass=\"gloss\" htag=\"span\">(= earns)</span> about $40 000 a year.</span></li><li class=\"\" htag=\"li\"><span class=\"x\">This room gets very little sunshine.</span></li><li class=\"\" htag=\"li\"><span class=\"x\">I got a shock when I saw the bill.</span></li><li class=\"\" htag=\"li\"><span class=\"x\">I will report back when I <span class=\"cl\">get a chance</span>.</span></li><li class=\"\" htag=\"li\"><span class=\"x\">I <span class=\"cl\">get the impression</span> that he is bored with his job.</span></li><li class=\"\" htag=\"li\"><span class=\"x\">Where did you <span class=\"cl\">get the idea</span> from?</span></li><li class=\"\" htag=\"li\"><span class=\"x\">It's the best way to <span class=\"cl\">get a sense </span>of what's actually going on here.</span></li><li class=\"\" htag=\"li\"><span class=\"x\">She got great satisfaction from seeing his embarrassment.</span></li></ul> </li>"
      ]
     },
     "execution_count": 39,
     "metadata": {},
     "output_type": "execute_result"
    }
   ],
   "source": [
    "# additional usage info\n",
    "defs[0]"
   ]
  },
  {
   "cell_type": "code",
   "execution_count": 36,
   "metadata": {},
   "outputs": [
    {
     "data": {
      "text/plain": [
       "<span class=\"cf\" hclass=\"cf\" htag=\"span\">get something</span>"
      ]
     },
     "execution_count": 36,
     "metadata": {},
     "output_type": "execute_result"
    }
   ],
   "source": [
    "# additional usage info\n",
    "# it is ambiguous\n",
    "defs[0].find(class_='cf')"
   ]
  },
  {
   "cell_type": "code",
   "execution_count": 24,
   "metadata": {},
   "outputs": [
    {
     "name": "stdout",
     "output_type": "stream",
     "text": [
      "---\n",
      "[transitive, no passive]\n",
      "to receive something\n",
      "---\n",
      "[transitive, no passive]\n",
      "to obtain something\n",
      "---\n",
      "[transitive]\n",
      "to buy something\n",
      "---\n",
      "[transitive, no passive]\n",
      "to obtain or receive an amount of money by selling something\n",
      "---\n",
      "[transitive]\n",
      "to go to a place and bring somebody/something back\n",
      "---\n",
      "[transitive, no passive]\n",
      "to achieve or be given a particular mark or grade in an exam\n",
      "---\n",
      "[transitive, no passive]\n",
      "to start to develop an illness; to suffer from a pain, etc.\n",
      "---\n",
      "[transitive, no passive]\n",
      "to receive something as a punishment\n",
      "---\n",
      "[transitive, no passive]\n",
      "to connect to the internet or a phone network; to receive broadcasts from a particular television or radio station\n",
      "---\n",
      "[transitive, no passive]\n",
      "to be connected with somebody by phone\n",
      "---\n",
      "[intransitive]\n",
      "to arrive at or reach a place or point\n",
      "---\n",
      "[intransitive, transitive]\n",
      "to move to or from a particular place or in a particular direction, sometimes with difficulty; to make somebody/something do this\n",
      "---\n",
      "[transitive, no passive]\n",
      "to use a bus, taxi, plane, etc.\n",
      "---\n"
     ]
    },
    {
     "ename": "AttributeError",
     "evalue": "'NoneType' object has no attribute 'get_text'",
     "output_type": "error",
     "traceback": [
      "\u001b[0;31m---------------------------------------------------------------------------\u001b[0m",
      "\u001b[0;31mAttributeError\u001b[0m                            Traceback (most recent call last)",
      "\u001b[0;32m<ipython-input-24-2c261402bb5e>\u001b[0m in \u001b[0;36m<module>\u001b[0;34m\u001b[0m\n\u001b[1;32m      2\u001b[0m     \u001b[0;31m#print(x.prettify()) #!!!\u001b[0m\u001b[0;34m\u001b[0m\u001b[0;34m\u001b[0m\u001b[0;34m\u001b[0m\u001b[0m\n\u001b[1;32m      3\u001b[0m     \u001b[0mprint\u001b[0m\u001b[0;34m(\u001b[0m\u001b[0;34m'---'\u001b[0m\u001b[0;34m)\u001b[0m\u001b[0;34m\u001b[0m\u001b[0;34m\u001b[0m\u001b[0m\n\u001b[0;32m----> 4\u001b[0;31m     \u001b[0mprint\u001b[0m\u001b[0;34m(\u001b[0m\u001b[0mx\u001b[0m\u001b[0;34m.\u001b[0m\u001b[0mfind\u001b[0m\u001b[0;34m(\u001b[0m\u001b[0;34m'span'\u001b[0m\u001b[0;34m,\u001b[0m \u001b[0;34m{\u001b[0m\u001b[0;34m'class'\u001b[0m\u001b[0;34m,\u001b[0m \u001b[0;34m'grammar'\u001b[0m\u001b[0;34m}\u001b[0m\u001b[0;34m)\u001b[0m\u001b[0;34m.\u001b[0m\u001b[0mget_text\u001b[0m\u001b[0;34m(\u001b[0m\u001b[0;34m)\u001b[0m\u001b[0;34m)\u001b[0m\u001b[0;34m\u001b[0m\u001b[0;34m\u001b[0m\u001b[0m\n\u001b[0m\u001b[1;32m      5\u001b[0m     \u001b[0mprint\u001b[0m\u001b[0;34m(\u001b[0m\u001b[0mx\u001b[0m\u001b[0;34m.\u001b[0m\u001b[0mfind\u001b[0m\u001b[0;34m(\u001b[0m\u001b[0;34m'span'\u001b[0m\u001b[0;34m,\u001b[0m \u001b[0;34m{\u001b[0m\u001b[0;34m'class'\u001b[0m\u001b[0;34m,\u001b[0m \u001b[0;34m'def'\u001b[0m\u001b[0;34m}\u001b[0m\u001b[0;34m)\u001b[0m\u001b[0;34m.\u001b[0m\u001b[0mget_text\u001b[0m\u001b[0;34m(\u001b[0m\u001b[0;34m)\u001b[0m\u001b[0;34m)\u001b[0m\u001b[0;34m\u001b[0m\u001b[0;34m\u001b[0m\u001b[0m\n",
      "\u001b[0;31mAttributeError\u001b[0m: 'NoneType' object has no attribute 'get_text'"
     ]
    }
   ],
   "source": [
    "for x in defs:\n",
    "    #print(x.prettify()) #!!!\n",
    "    print('---')\n",
    "    print(x.find('span', {'class', 'grammar'}).get_text())\n",
    "    print(x.find('span', {'class', 'def'}).get_text())"
   ]
  },
  {
   "cell_type": "markdown",
   "metadata": {},
   "source": [
    "###### Get examples"
   ]
  },
  {
   "cell_type": "code",
   "execution_count": 25,
   "metadata": {},
   "outputs": [
    {
     "name": "stdout",
     "output_type": "stream",
     "text": [
      " \n",
      "None\n",
      "-----------------\n",
      " \n"
     ]
    }
   ],
   "source": [
    "# Example\n",
    "# Try with `dodge` word\n",
    "exmp = defs[1]\n",
    "print(exmp.span.get_text())\n",
    "if exmp.find('span', {'class', 'labels'}) is None:\n",
    "    print(None)# !!!\n",
    "elif exmp.find('span', {'class', 'labels'}) is not None:\n",
    "    print(\"labels:\", exmp.find('span', {'class', 'labels'}).get_text())\n",
    "#print(exmp.ul.prettify()) # !!!\n",
    "#print(exmp.ul.find_all(class_='cf'))\n",
    "# print('-----------------')\n",
    "# for x in exmp.ul.find_all(class_='cf'):\n",
    "#     print(x.text)\n",
    "# print('-----------------')\n",
    "# for x in exmp.ul.find_all(class_='cf'):\n",
    "#     print(x.text)\n",
    "print('-----------------')\n",
    "exmp = defs[0]\n",
    "print(exmp.span.get_text())\n",
    "#print(exmp.find('span', {'class', 'labels'}).get_text()) # !!!"
   ]
  },
  {
   "cell_type": "code",
   "execution_count": 26,
   "metadata": {},
   "outputs": [
    {
     "name": "stdout",
     "output_type": "stream",
     "text": [
      "0) I got a call from Dave this morning.\n",
      "1) What (= What presents) did you get for your birthday?\n",
      "2) He gets (= earns) about $40 000 a year.\n",
      "3) This room gets very little sunshine.\n",
      "4) I got a shock when I saw the bill.\n",
      "5) I will report back when I get a chance.\n",
      "6) I get the impression that he is bored with his job.\n",
      "7) Where did you get the idea from?\n",
      "8) It's the best way to get a sense of what's actually going on here.\n",
      "9) She got great satisfaction from seeing his embarrassment.\n",
      "------------------\n",
      "0) He has just got a new job.\n",
      "1) I'll get the money somehow.\n",
      "2) She opened the door wider to get a better look.\n",
      "3) Try to get some sleep.\n",
      "4) You can also get information on careers in social work from their website.\n",
      "5) I think someone's trying to get your attention.\n",
      "6) She really knows how to get results.\n",
      "------------------\n",
      "0) get something: Where did you get that skirt?\n",
      "1) Did you manage to get tickets for the concert?\n",
      "2) Can I get a Coke?\n",
      "------------------\n",
      "0) get something: If you sell it at auction you can expect to get roughly £800.\n",
      "1) get something for something: How much did you get for your car?\n",
      "2) We got £420 000 for the house.\n",
      "------------------\n",
      "0) get somebody/something: Quick—go and get a cloth!\n",
      "1) Somebody get a doctor!\n",
      "2) She went to get help.\n",
      "3) I have to go and get my mother from the airport (= collect her).\n",
      "4) get something for somebody: Get a drink for John.\n",
      "5) get somebody/yourself something: Get John a drink.\n",
      "------------------\n",
      "0) He got a ‘C’ in Chemistry and a ‘B’ in English.\n",
      "------------------\n",
      "0) I got this cold off (= from) you!\n",
      "1) She gets (= often suffers from) really bad headaches.\n",
      "2) I think I'm getting a cold.\n",
      "------------------\n",
      "0) He got ten years (= was sent to prison for ten years) for armed robbery.\n",
      "------------------\n",
      "0) 95 per cent of the UK can now get superfast broadband.\n",
      "1) I couldn't get any mobile phone reception.\n",
      "2) We can't get Channel 5 in our area.\n",
      "------------------\n",
      "0) I wanted to speak to the manager but I got his secretary instead.\n",
      "------------------\n",
      "0) We got to San Diego at 7 o'clock.\n",
      "1) We're aiming to get to the party at about nine.\n",
      "2) You got in very late last night.\n",
      "3) I got back an hour ago.\n",
      "4) Wait till we get home.\n",
      "5) What time did you get here?\n",
      "6) Let me know when you get there.\n",
      "7) I haven't got very far with the book I'm reading.\n",
      "------------------\n",
      "0) + adv./prep.: The bridge was destroyed so we couldn't get across the river.\n",
      "1) She got into bed.\n",
      "2) He got down from the ladder.\n",
      "3) We didn't get (= go) to bed until 3 a.m.\n",
      "4) Where do we get on the bus?\n",
      "5) I'm getting off (= leaving the train) at the next station.\n",
      "6) Where have they got to (= where are they)?\n",
      "7) We must be getting home; it's past midnight.\n",
      "8) get somebody/something + adv./prep.: We couldn't get the piano through the door.\n",
      "9) We'd better call a taxi and get you home.\n",
      "10) The general had to get his troops across the river.\n",
      "11) I can't get the lid off.\n",
      "------------------\n",
      "0) We're going to be late—let's get a taxi.\n",
      "1) I usually get the bus to work.\n",
      "------------------\n",
      "0) + adj.: to get angry/bored/hungry/fat\n",
      "1) to get better/worse\n",
      "2) You'll soon get used to the climate here.\n",
      "3) We ought to go; it's getting late.\n",
      "4) to get dressed/undressed (= to put your clothes on/take your clothes off)\n",
      "5) They plan to get married in the summer.\n",
      "6) She's upstairs getting ready.\n",
      "7) As he's got older his tastes have changed.\n",
      "8) She was getting sick of hearing him complain.\n",
      "9) There's nothing to get excited about.\n",
      "10) He got drunk and passed out.\n",
      "11) I was starting to get tired.\n",
      "12) I wouldn't go there alone; you might get (= be) mugged.\n",
      "13) My car got (= was) stolen at the weekend.\n",
      "14) get somebody/something + adj.: Don't get your dress dirty!\n",
      "15) He got his fingers caught in the door.\n",
      "16) She soon got the children ready for school.\n",
      "------------------\n",
      "0) After a time you get to realize that these things don't matter.\n",
      "1) You'll like her once you get to know her.\n",
      "2) His drinking is getting to be a problem.\n",
      "3) She's getting to be an old lady now.\n",
      "------------------\n",
      "0) I must get my hair cut.\n",
      "1) I'll never get all this work finished.\n",
      "2) She has a reputation for getting things done.\n",
      "------------------\n",
      "0) get somebody/something to do something: I couldn't get the car to start this morning.\n",
      "1) He got his sister to help him with his homework.\n",
      "2) You'll never get him to understand.\n",
      "3) get somebody/something doing something: It's not hard to get him talking—the problem is stopping him!\n",
      "4) Can you really get that old car going again?\n",
      "------------------\n",
      "0) I got talking to her.\n",
      "1) We need to get going soon.\n",
      "------------------\n",
      "0) He got to try out all the new software.\n",
      "1) It's not fair—I never get to go first.\n",
      "------------------\n",
      "0) get something: Who's getting the lunch?\n",
      "1) You sit down and relax. I'll get supper.\n",
      "2) get something for somebody/yourself: I must go home and get tea for the kids.\n",
      "3) get somebody/yourself something: I must go home and get the kids their tea.\n",
      "------------------\n",
      "0) Will you get the phone?\n",
      "------------------\n",
      "0) He was on the run for a week before the police got him.\n",
      "1) to get somebody by the arm/wrist/throat\n",
      "2) She fell overboard and the sharks got her.\n",
      "3) He thinks everybody is out to get him (= trying to harm him).\n",
      "4) I'll get you for that!\n",
      "------------------\n",
      "0) The bullet got him in the neck.\n",
      "------------------\n",
      "0) I don't get you.\n",
      "1) She didn't get the joke.\n",
      "2) I don't get it—why would she do a thing like that?\n",
      "3) I get the message—you don't want me to come.\n",
      "------------------\n",
      "0) You get (= There are) all these kids hanging around in the street.\n",
      "1) They still get cases of typhoid there.\n",
      "------------------\n",
      "0) ‘What's the capital of Bhutan?’ ‘You've got me there!’ (= I don't know)\n",
      "------------------\n",
      "0) What gets me is having to do the same thing all day long.\n",
      "------------------\n"
     ]
    }
   ],
   "source": [
    "for exmp in defs:\n",
    "    # \n",
    "    try:\n",
    "    # going through examples\n",
    "        for i, x in enumerate(exmp.find(class_='examples').find_all('li')):\n",
    "            #print(x.find_all('span')[0], x.find_all('span')[1])\n",
    "            # As examples has \"specification: text\" structure\n",
    "            #print(x)\n",
    "            try:\n",
    "                print(f\"{i})\", end=' ')\n",
    "                print(x.find(class_='cf').text, end=': ')\n",
    "                print(x.find(class_='x').text) \n",
    "            except (NameError, AttributeError) as e:\n",
    "                #pass\n",
    "                try:\n",
    "                    print(x.find(class_='x').text) \n",
    "                except:\n",
    "                    print(None)\n",
    "    except AttributeError:\n",
    "        print('0) No examples')\n",
    "    print('------------------')"
   ]
  },
  {
   "cell_type": "markdown",
   "metadata": {},
   "source": [
    "###### To Do"
   ]
  },
  {
   "cell_type": "markdown",
   "metadata": {},
   "source": [
    "- Argparse \n",
    "- Audio\n",
    "- write notes to obsidian\n",
    "- history and rating\n",
    "- level (a1, b2, etc)"
   ]
  },
  {
   "cell_type": "code",
   "execution_count": null,
   "metadata": {},
   "outputs": [],
   "source": []
  },
  {
   "cell_type": "code",
   "execution_count": null,
   "metadata": {},
   "outputs": [],
   "source": []
  },
  {
   "cell_type": "code",
   "execution_count": null,
   "metadata": {},
   "outputs": [],
   "source": []
  }
 ],
 "metadata": {
  "kernelspec": {
   "display_name": "Python 3",
   "language": "python",
   "name": "python3"
  },
  "language_info": {
   "codemirror_mode": {
    "name": "ipython",
    "version": 3
   },
   "file_extension": ".py",
   "mimetype": "text/x-python",
   "name": "python",
   "nbconvert_exporter": "python",
   "pygments_lexer": "ipython3",
   "version": "3.8.3"
  }
 },
 "nbformat": 4,
 "nbformat_minor": 4
}
