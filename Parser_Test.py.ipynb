{
 "cells": [
  {
   "cell_type": "code",
   "execution_count": 452,
   "metadata": {},
   "outputs": [],
   "source": [
    "from bs4 import BeautifulSoup\n",
    "import requests"
   ]
  },
  {
   "cell_type": "code",
   "execution_count": 453,
   "metadata": {},
   "outputs": [],
   "source": [
    "def download_data(url, price_min=None, price_max=None, proxy=None):\n",
    "    #    headers = {'user-agent': 'my-app/0.0.1'}\n",
    "    url = ''.join([url, word])\n",
    "    headers = {\n",
    "        \"User-Agent\": \"Mozilla/5.0 (Windows NT 10.0; Win64; x64; rv:79.0) Gecko/20100101 Firefox/79.0\",\n",
    "        \"Accept\": \"*/*\",\n",
    "        \"Accept-Language\": \"ru-RU,ru;q=0.8,en-US;q=0.5,en;q=0.3\",\n",
    "        \"Accept-Encoding\": \"gzip, deflate, br\"}\n",
    "\n",
    "    #data_to_send = {'p': page_numb, 'pmax': price_max, 'pmin': price_min}\n",
    "    s = requests.Session()\n",
    "    page = s.get(url,\n",
    "                 headers=headers,\n",
    "                 #params=data_to_send,\n",
    "                 proxies={\"http\": proxy, \"https\": proxy}, stream=True\n",
    "                )\n",
    "#     if page.status_code == 429:\n",
    "#         print(\"Blocked due to many requests\")\n",
    "#     if page.status_code == 403:\n",
    "#         raise Exception(\"Url is forbidden\")\n",
    "\n",
    "    # process connection error\n",
    "    soup = BeautifulSoup(page.content, 'html.parser')\n",
    "    return soup"
   ]
  },
  {
   "cell_type": "code",
   "execution_count": 454,
   "metadata": {},
   "outputs": [],
   "source": [
    "def find_word(word):\n",
    "    url = 'https://www.oxfordlearnersdictionaries.com/definition/english/'\n",
    "    res = download_data(url, word)\n",
    "    return res\n",
    "\n",
    "word = 'dodge'\n",
    "res = find_word(word)"
   ]
  },
  {
   "cell_type": "code",
   "execution_count": 455,
   "metadata": {},
   "outputs": [],
   "source": [
    "#data.find(name='top-container')"
   ]
  },
  {
   "cell_type": "markdown",
   "metadata": {},
   "source": [
    "### Whole data block"
   ]
  },
  {
   "cell_type": "code",
   "execution_count": 456,
   "metadata": {},
   "outputs": [],
   "source": [
    "data = res.find(\"div\", {\"id\", \"main-container\"})"
   ]
  },
  {
   "cell_type": "markdown",
   "metadata": {},
   "source": [
    "###### Top Block "
   ]
  },
  {
   "cell_type": "code",
   "execution_count": 457,
   "metadata": {},
   "outputs": [
    {
     "name": "stdout",
     "output_type": "stream",
     "text": [
      "dodge\n",
      "phonetics\n",
      "<span class=\"phonetics\"> <div class=\"phons_br\" geo=\"br\" hclass=\"phons_br\" htag=\"div\" wd=\"dodge\"><div class=\"sound audio_play_button pron-uk icon-audio\" data-src-mp3=\"https://www.oxfordlearnersdictionaries.com/media/english/uk_pron/d/dod/dodge/dodge__gb_1.mp3\" data-src-ogg=\"https://www.oxfordlearnersdictionaries.com/media/english/uk_pron_ogg/d/dod/dodge/dodge__gb_1.ogg\" style=\"cursor: pointer\" title=\"dodge pronunciation\n",
      "                    English\" valign=\"top\"> </div><span class=\"phon\">/dɒdʒ/</span></div> <div class=\"phons_n_am\" geo=\"n_am\" hclass=\"phons_n_am\" htag=\"div\" wd=\"dodge\"><div class=\"sound audio_play_button pron-us icon-audio\" data-src-mp3=\"https://www.oxfordlearnersdictionaries.com/media/english/us_pron/d/dod/dodge/dodge__us_1.mp3\" data-src-ogg=\"https://www.oxfordlearnersdictionaries.com/media/english/us_pron_ogg/d/dod/dodge/dodge__us_1.ogg\" style=\"cursor: pointer\" title=\"dodge pronunciation\n",
      "                    American\" valign=\"top\"> </div><span class=\"phon\">/dɑːdʒ/</span></div></span>\n",
      "\n",
      "/dɒdʒ/\n",
      "/dɑːdʒ/\n"
     ]
    }
   ],
   "source": [
    "# print word itself\n",
    "tmp = res.find(\"div\", {\"class\", \"top-container\"})\n",
    "print(tmp.find('h1', {'class', 'headword'}).text)\n",
    "\n",
    "print('phonetics')\n",
    "print(tmp.find(class_='phonetics'))\n",
    "phone = tmp.find(class_='phonetics')\n",
    "print()\n",
    "br_pron = phone.find(class_=\"phons_br\").get_text().strip()\n",
    "print(br_pron)\n",
    "am_pron = phone.find(class_=\"phons_n_am\").get_text().strip()\n",
    "print(am_pron)"
   ]
  },
  {
   "cell_type": "code",
   "execution_count": 458,
   "metadata": {},
   "outputs": [],
   "source": [
    "# level\n",
    "#tmp = res.find(\"div\", {\"id\", \"main-container\"})"
   ]
  },
  {
   "cell_type": "markdown",
   "metadata": {},
   "source": [
    "###### audio (in progress)"
   ]
  },
  {
   "cell_type": "code",
   "execution_count": 459,
   "metadata": {},
   "outputs": [
    {
     "data": {
      "text/plain": [
       "<div class=\"phons_br\" geo=\"br\" hclass=\"phons_br\" htag=\"div\" wd=\"dodge\"><div class=\"sound audio_play_button pron-uk icon-audio\" data-src-mp3=\"https://www.oxfordlearnersdictionaries.com/media/english/uk_pron/d/dod/dodge/dodge__gb_1.mp3\" data-src-ogg=\"https://www.oxfordlearnersdictionaries.com/media/english/uk_pron_ogg/d/dod/dodge/dodge__gb_1.ogg\" style=\"cursor: pointer\" title=\"dodge pronunciation\n",
       "                    English\" valign=\"top\"> </div><span class=\"phon\">/dɒdʒ/</span></div>"
      ]
     },
     "execution_count": 459,
     "metadata": {},
     "output_type": "execute_result"
    }
   ],
   "source": [
    "phone.find(class_=\"phons_br\")"
   ]
  },
  {
   "cell_type": "code",
   "execution_count": 460,
   "metadata": {},
   "outputs": [
    {
     "data": {
      "text/plain": [
       "'https://www.oxfordlearnersdictionaries.com/media/english/uk_pron/d/dod/dodge/dodge__gb_1.mp3'"
      ]
     },
     "execution_count": 460,
     "metadata": {},
     "output_type": "execute_result"
    }
   ],
   "source": [
    "br_sound_url = phone.find(class_=\"phons_br\").div['data-src-mp3']\n",
    "br_sound_url"
   ]
  },
  {
   "cell_type": "markdown",
   "metadata": {},
   "source": [
    "###### get definitions "
   ]
  },
  {
   "cell_type": "code",
   "execution_count": 461,
   "metadata": {},
   "outputs": [
    {
     "data": {
      "text/plain": [
       "<ol class=\"senses_multiple\" htag=\"ol\"><li class=\"sense\" hclass=\"sense\" htag=\"li\" id=\"dodge_sng_1\" sensenum=\"1\"><span class=\"sensetop\" hclass=\"sensetop\" htag=\"span\"><span class=\"grammar\" hclass=\"grammar\" htag=\"span\">[transitive, intransitive]</span></span> <span class=\"def\" hclass=\"def\" htag=\"span\">to move quickly and suddenly to one side in order to avoid somebody/something</span><ul class=\"examples\" hclass=\"examples\" htag=\"ul\"><li class=\"\" htag=\"li\"> <span class=\"cf\" hclass=\"cf\" htag=\"span\">dodge something</span> <span class=\"x\">He ran across the road, dodging the traffic.</span></li><li class=\"\" htag=\"li\"> <span class=\"cf\" hclass=\"cf\" htag=\"span\">(+ adv./prep.)</span> <span class=\"x\">The girl dodged behind a tree to hide from the other children.</span></li></ul><div class=\"collapse\" hclass=\"collapse\" htag=\"div\"><span class=\"unbox\" id=\"dodge2_unbox_2\" unbox=\"extra_examples\"><span class=\"box_title\">Extra Examples</span><ul class=\"examples\" hclass=\"examples\" htag=\"ul\"><li class=\"\" htag=\"li\"><span class=\"unx\">She ran quickly, dodging between the trees.</span></li><li class=\"\" htag=\"li\"><span class=\"unx\">She threw a heavy book and he just managed to dodge in time.</span></li><li class=\"\" htag=\"li\"><span class=\"unx\">We had to dodge their missiles.</span></li><li class=\"\" htag=\"li\"><span class=\"unx\">dodging in and out of the traffic</span></li></ul></span></div> </li><li class=\"sense\" hclass=\"sense\" htag=\"li\" id=\"dodge_sng_2\" sensenum=\"2\"><span class=\"sensetop\" hclass=\"sensetop\" htag=\"span\"><span class=\"grammar\" hclass=\"grammar\" htag=\"span\">[transitive]</span></span> <span class=\"labels\" hclass=\"labels\" htag=\"span\">(rather informal)</span> <span class=\"def\" hclass=\"def\" htag=\"span\">to avoid doing something, especially in a dishonest way</span><ul class=\"examples\" hclass=\"examples\" htag=\"ul\"><li class=\"\" htag=\"li\"> <span class=\"cf\" hclass=\"cf\" htag=\"span\">dodge something</span> <span class=\"x\">He dodged his military service.</span></li><li class=\"\" htag=\"li\"><span class=\"x\">Claims that he dodged the draft for the Vietnam War could damage his election chances.</span></li><li class=\"\" htag=\"li\"> <span class=\"cf\" hclass=\"cf\" htag=\"span\">dodge doing something</span> <span class=\"x\">She tried to dodge paying her taxes.</span></li></ul> <div class=\"\"> <div class=\"am-default contentslot\" id=\"ad_contentslot_1\">\n",
       "<script type=\"text/javascript\">googletag.cmd.push(function() { googletag.display('ad_contentslot_1'); });</script>\n",
       "</div>\n",
       "</div> </li><div class=\"collapse\" hclass=\"collapse\" htag=\"div\"><span class=\"unbox\" id=\"dodge_unbox_2\" unbox=\"wordorigin\"><span class=\"box_title\">Word Origin</span><span class=\"body\"><span class=\"p\">mid 16th cent. (in the senses ‘dither’ and ‘haggle’): of unknown origin.</span></span></span></div></ol>"
      ]
     },
     "execution_count": 461,
     "metadata": {},
     "output_type": "execute_result"
    }
   ],
   "source": [
    "data.find('ol', {'class', 'senses_multiple'})"
   ]
  },
  {
   "cell_type": "code",
   "execution_count": 462,
   "metadata": {},
   "outputs": [],
   "source": [
    "defs = data.find('ol', {'class', 'senses_multiple'}).find_all(class_='sense')\n",
    "#defs = data.find_all(class_='sense')"
   ]
  },
  {
   "cell_type": "code",
   "execution_count": 463,
   "metadata": {},
   "outputs": [
    {
     "name": "stdout",
     "output_type": "stream",
     "text": [
      "---\n",
      "[transitive, intransitive]\n",
      "to move quickly and suddenly to one side in order to avoid somebody/something\n",
      "---\n",
      "[transitive]\n",
      "to avoid doing something, especially in a dishonest way\n"
     ]
    }
   ],
   "source": [
    "for x in defs:\n",
    "    #print(x.prettify()) #!!!\n",
    "    print('---')\n",
    "    print(x.find('span', {'class', 'grammar'}).get_text())\n",
    "    print(x.find('span', {'class', 'def'}).get_text())"
   ]
  },
  {
   "cell_type": "markdown",
   "metadata": {},
   "source": [
    "###### Get examples"
   ]
  },
  {
   "cell_type": "code",
   "execution_count": 470,
   "metadata": {},
   "outputs": [
    {
     "name": "stdout",
     "output_type": "stream",
     "text": [
      "[transitive]\n",
      "labels: (rather informal)\n",
      "-----------------\n",
      "[transitive, intransitive]\n"
     ]
    }
   ],
   "source": [
    "# Example\n",
    "# Try with `dodge` word\n",
    "exmp = defs[1]\n",
    "print(exmp.span.get_text())\n",
    "if exmp.find('span', {'class', 'labels'}) is None:\n",
    "    print(None)# !!!\n",
    "else:\n",
    "    print(\"labels:\", exmp.find('span', {'class', 'labels'}).get_text())\n",
    "#print(exmp.ul.prettify()) # !!!\n",
    "#print(exmp.ul.find_all(class_='cf'))\n",
    "# print('-----------------')\n",
    "# for x in exmp.ul.find_all(class_='cf'):\n",
    "#     print(x.text)\n",
    "# print('-----------------')\n",
    "# for x in exmp.ul.find_all(class_='cf'):\n",
    "#     print(x.text)\n",
    "print('-----------------')\n",
    "exmp = defs[0]\n",
    "print(exmp.span.get_text())\n",
    "#print(exmp.find('span', {'class', 'labels'}).get_text()) # !!!"
   ]
  },
  {
   "cell_type": "code",
   "execution_count": 465,
   "metadata": {},
   "outputs": [
    {
     "name": "stdout",
     "output_type": "stream",
     "text": [
      "0) dodge something: He ran across the road, dodging the traffic.\n",
      "1) (+ adv./prep.): The girl dodged behind a tree to hide from the other children.\n",
      "------------------\n",
      "0) dodge something: He dodged his military service.\n",
      "1) Claims that he dodged the draft for the Vietnam War could damage his election chances.\n",
      "2) dodge doing something: She tried to dodge paying her taxes.\n",
      "------------------\n"
     ]
    }
   ],
   "source": [
    "for exmp in defs:\n",
    "    # \n",
    "    try:\n",
    "    # going through examples\n",
    "        for i, x in enumerate(exmp.find(class_='examples').find_all('li')):\n",
    "            #print(x.find_all('span')[0], x.find_all('span')[1])\n",
    "            # As examples has \"specification: text\" structure\n",
    "            #print(x)\n",
    "            try:\n",
    "                print(f\"{i})\", end=' ')\n",
    "                print(x.find(class_='cf').text, end=': ')\n",
    "                print(x.find(class_='x').text) \n",
    "            except (NameError, AttributeError) as e:\n",
    "                #pass\n",
    "                try:\n",
    "                    print(x.find(class_='x').text) \n",
    "                except:\n",
    "                    print(None)\n",
    "    except AttributeError:\n",
    "        print('0) No examples')\n",
    "    print('------------------')"
   ]
  },
  {
   "cell_type": "markdown",
   "metadata": {},
   "source": [
    "###### To Do"
   ]
  },
  {
   "cell_type": "markdown",
   "metadata": {},
   "source": [
    "- Argparse \n",
    "- Audio\n",
    "- write notes to obsidian"
   ]
  },
  {
   "cell_type": "code",
   "execution_count": null,
   "metadata": {},
   "outputs": [],
   "source": []
  }
 ],
 "metadata": {
  "kernelspec": {
   "display_name": "Python 3",
   "language": "python",
   "name": "python3"
  },
  "language_info": {
   "codemirror_mode": {
    "name": "ipython",
    "version": 3
   },
   "file_extension": ".py",
   "mimetype": "text/x-python",
   "name": "python",
   "nbconvert_exporter": "python",
   "pygments_lexer": "ipython3",
   "version": "3.8.3"
  }
 },
 "nbformat": 4,
 "nbformat_minor": 4
}
