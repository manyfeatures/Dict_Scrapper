{
 "cells": [
  {
   "cell_type": "code",
   "execution_count": 235,
   "metadata": {},
   "outputs": [],
   "source": [
    "from bs4 import BeautifulSoup\n",
    "import requests"
   ]
  },
  {
   "cell_type": "code",
   "execution_count": 236,
   "metadata": {},
   "outputs": [],
   "source": [
    "def download_data(url, price_min=None, price_max=None, proxy=None):\n",
    "    #    headers = {'user-agent': 'my-app/0.0.1'}\n",
    "    url = ''.join([url, word])\n",
    "    headers = {\n",
    "        \"User-Agent\": \"Mozilla/5.0 (Windows NT 10.0; Win64; x64; rv:79.0) Gecko/20100101 Firefox/79.0\",\n",
    "        \"Accept\": \"*/*\",\n",
    "        \"Accept-Language\": \"ru-RU,ru;q=0.8,en-US;q=0.5,en;q=0.3\",\n",
    "        \"Accept-Encoding\": \"gzip, deflate, br\"}\n",
    "\n",
    "    #data_to_send = {'p': page_numb, 'pmax': price_max, 'pmin': price_min}\n",
    "    s = requests.Session()\n",
    "    page = s.get(url,\n",
    "                 headers=headers,\n",
    "                 #params=data_to_send,\n",
    "                 proxies={\"http\": proxy, \"https\": proxy}, stream=True\n",
    "                )\n",
    "#     if page.status_code == 429:\n",
    "#         print(\"Blocked due to many requests\")\n",
    "#     if page.status_code == 403:\n",
    "#         raise Exception(\"Url is forbidden\")\n",
    "\n",
    "    # process connection error\n",
    "    soup = BeautifulSoup(page.content, 'html.parser')\n",
    "    return soup"
   ]
  },
  {
   "cell_type": "code",
   "execution_count": 237,
   "metadata": {},
   "outputs": [],
   "source": [
    "def find_word(word):\n",
    "    url = 'https://www.oxfordlearnersdictionaries.com/definition/english/'\n",
    "    res = download_data(url, word)\n",
    "    return res\n",
    "\n",
    "word = 'dodge'\n",
    "res = find_word(word)"
   ]
  },
  {
   "cell_type": "code",
   "execution_count": 238,
   "metadata": {},
   "outputs": [],
   "source": [
    "#data.find(name='top-container')"
   ]
  },
  {
   "cell_type": "markdown",
   "metadata": {},
   "source": [
    "### Whole data block"
   ]
  },
  {
   "cell_type": "code",
   "execution_count": 239,
   "metadata": {},
   "outputs": [],
   "source": [
    "data = res.find(\"div\", {\"id\", \"main-container\"})"
   ]
  },
  {
   "cell_type": "markdown",
   "metadata": {},
   "source": [
    "###### Top Block "
   ]
  },
  {
   "cell_type": "code",
   "execution_count": 240,
   "metadata": {},
   "outputs": [
    {
     "name": "stdout",
     "output_type": "stream",
     "text": [
      "dodge\n",
      "phonetics\n",
      "<span class=\"phonetics\"> <div class=\"phons_br\" geo=\"br\" hclass=\"phons_br\" htag=\"div\" wd=\"dodge\"><div class=\"sound audio_play_button pron-uk icon-audio\" data-src-mp3=\"https://www.oxfordlearnersdictionaries.com/media/english/uk_pron/d/dod/dodge/dodge__gb_1.mp3\" data-src-ogg=\"https://www.oxfordlearnersdictionaries.com/media/english/uk_pron_ogg/d/dod/dodge/dodge__gb_1.ogg\" style=\"cursor: pointer\" title=\"dodge pronunciation\n",
      "                    English\" valign=\"top\"> </div><span class=\"phon\">/dɒdʒ/</span></div> <div class=\"phons_n_am\" geo=\"n_am\" hclass=\"phons_n_am\" htag=\"div\" wd=\"dodge\"><div class=\"sound audio_play_button pron-us icon-audio\" data-src-mp3=\"https://www.oxfordlearnersdictionaries.com/media/english/us_pron/d/dod/dodge/dodge__us_1.mp3\" data-src-ogg=\"https://www.oxfordlearnersdictionaries.com/media/english/us_pron_ogg/d/dod/dodge/dodge__us_1.ogg\" style=\"cursor: pointer\" title=\"dodge pronunciation\n",
      "                    American\" valign=\"top\"> </div><span class=\"phon\">/dɑːdʒ/</span></div></span>\n",
      "\n",
      "/dɒdʒ/\n",
      "/dɑːdʒ/\n"
     ]
    }
   ],
   "source": [
    "# print word itself\n",
    "tmp = res.find(\"div\", {\"class\", \"top-container\"})\n",
    "print(tmp.find('h1', {'class', 'headword'}).text)\n",
    "\n",
    "print('phonetics')\n",
    "print(tmp.find(class_='phonetics'))\n",
    "phone = tmp.find(class_='phonetics')\n",
    "print()\n",
    "br_pron = phone.find(class_=\"phons_br\").get_text().strip()\n",
    "print(br_pron)\n",
    "am_pron = phone.find(class_=\"phons_n_am\").get_text().strip()\n",
    "print(am_pron)"
   ]
  },
  {
   "cell_type": "markdown",
   "metadata": {},
   "source": [
    "###### audio (in progress)"
   ]
  },
  {
   "cell_type": "code",
   "execution_count": 241,
   "metadata": {},
   "outputs": [
    {
     "data": {
      "text/plain": [
       "<div class=\"phons_br\" geo=\"br\" hclass=\"phons_br\" htag=\"div\" wd=\"dodge\"><div class=\"sound audio_play_button pron-uk icon-audio\" data-src-mp3=\"https://www.oxfordlearnersdictionaries.com/media/english/uk_pron/d/dod/dodge/dodge__gb_1.mp3\" data-src-ogg=\"https://www.oxfordlearnersdictionaries.com/media/english/uk_pron_ogg/d/dod/dodge/dodge__gb_1.ogg\" style=\"cursor: pointer\" title=\"dodge pronunciation\n",
       "                    English\" valign=\"top\"> </div><span class=\"phon\">/dɒdʒ/</span></div>"
      ]
     },
     "execution_count": 241,
     "metadata": {},
     "output_type": "execute_result"
    }
   ],
   "source": [
    "phone.find(class_=\"phons_br\")"
   ]
  },
  {
   "cell_type": "code",
   "execution_count": 242,
   "metadata": {},
   "outputs": [
    {
     "ename": "SyntaxError",
     "evalue": "invalid syntax (<ipython-input-242-9db14267fa6f>, line 1)",
     "output_type": "error",
     "traceback": [
      "\u001b[0;36m  File \u001b[0;32m\"<ipython-input-242-9db14267fa6f>\"\u001b[0;36m, line \u001b[0;32m1\u001b[0m\n\u001b[0;31m    br_ sound_url = phone.find(class_=\"phons_br\").div['data-src-mp3']\u001b[0m\n\u001b[0m        ^\u001b[0m\n\u001b[0;31mSyntaxError\u001b[0m\u001b[0;31m:\u001b[0m invalid syntax\n"
     ]
    }
   ],
   "source": [
    "br_ sound_url = phone.find(class_=\"phons_br\").div['data-src-mp3']"
   ]
  },
  {
   "cell_type": "markdown",
   "metadata": {},
   "source": [
    "###### get definitions "
   ]
  },
  {
   "cell_type": "code",
   "execution_count": null,
   "metadata": {},
   "outputs": [],
   "source": [
    "data.find('ol', {'class', 'senses_multiple'})"
   ]
  },
  {
   "cell_type": "code",
   "execution_count": null,
   "metadata": {},
   "outputs": [],
   "source": [
    "defs = data.find('ol', {'class', 'senses_multiple'}).find_all(class_='sense')"
   ]
  },
  {
   "cell_type": "code",
   "execution_count": null,
   "metadata": {},
   "outputs": [],
   "source": [
    "for x in defs:\n",
    "    #print(x.prettify()) #!!!\n",
    "    print('---')\n",
    "    print(x.find('span', {'class', 'grammar'}).get_text())\n",
    "    print(x.find('span', {'class', 'def'}).get_text())"
   ]
  },
  {
   "cell_type": "markdown",
   "metadata": {},
   "source": [
    "###### Get examples"
   ]
  },
  {
   "cell_type": "code",
   "execution_count": 243,
   "metadata": {},
   "outputs": [
    {
     "name": "stdout",
     "output_type": "stream",
     "text": [
      "[transitive, intransitive]\n",
      "-----------------\n"
     ]
    }
   ],
   "source": [
    "# Example\n",
    "exmp = defs[0]\n",
    "print(exmp.span.get_text())\n",
    "#print(exmp.ul.prettify()) # !!!\n",
    "#print(exmp.ul.find_all(class_='cf'))\n",
    "# print('-----------------')\n",
    "# for x in exmp.ul.find_all(class_='cf'):\n",
    "#     print(x.text)\n",
    "# print('-----------------')\n",
    "# for x in exmp.ul.find_all(class_='cf'):\n",
    "#     print(x.text)\n",
    "print('-----------------')"
   ]
  },
  {
   "cell_type": "code",
   "execution_count": 244,
   "metadata": {},
   "outputs": [
    {
     "name": "stdout",
     "output_type": "stream",
     "text": [
      "dodge something: He ran across the road, dodging the traffic.\n",
      "(+ adv./prep.): The girl dodged behind a tree to hide from the other children.\n",
      "------------------\n",
      "dodge something: He dodged his military service.\n",
      "None: Claims that he dodged the draft for the Vietnam War could damage his election chances.\n",
      "dodge doing something: She tried to dodge paying her taxes.\n",
      "------------------\n"
     ]
    }
   ],
   "source": [
    "for exmp in defs:\n",
    "    for i, x in enumerate(exmp.ul.find_all(class_='')):\n",
    "        #print(x.find_all('span')[0], x.find_all('span')[1])\n",
    "        # As examples has \"specification: text\" structure\n",
    "        try:\n",
    "            print(x.find(class_='cf').text, end=': ')\n",
    "            print(x.find(class_='x').text) \n",
    "        except (NameError, AttributeError) as e:\n",
    "            #pass\n",
    "            try:\n",
    "                print(None, end=': ')\n",
    "                print(x.find(class_='x').text) \n",
    "            except:\n",
    "                print(None)\n",
    "    print('------------------')"
   ]
  },
  {
   "cell_type": "markdown",
   "metadata": {},
   "source": [
    "###### To Do"
   ]
  },
  {
   "cell_type": "markdown",
   "metadata": {},
   "source": [
    "- Argparse \n",
    "- Audio"
   ]
  }
 ],
 "metadata": {
  "kernelspec": {
   "display_name": "Python 3",
   "language": "python",
   "name": "python3"
  },
  "language_info": {
   "codemirror_mode": {
    "name": "ipython",
    "version": 3
   },
   "file_extension": ".py",
   "mimetype": "text/x-python",
   "name": "python",
   "nbconvert_exporter": "python",
   "pygments_lexer": "ipython3",
   "version": "3.8.3"
  }
 },
 "nbformat": 4,
 "nbformat_minor": 4
}
