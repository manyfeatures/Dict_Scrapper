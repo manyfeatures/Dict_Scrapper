{
 "cells": [
  {
   "cell_type": "code",
   "execution_count": 95,
   "metadata": {},
   "outputs": [],
   "source": [
    "#try nb for dodge, get"
   ]
  },
  {
   "cell_type": "code",
   "execution_count": 1,
   "metadata": {},
   "outputs": [],
   "source": [
    "from bs4 import BeautifulSoup\n",
    "import requests"
   ]
  },
  {
   "cell_type": "code",
   "execution_count": 102,
   "metadata": {},
   "outputs": [],
   "source": [
    "def download_data(url, price_min=None, price_max=None, proxy=None):\n",
    "    #    headers = {'user-agent': 'my-app/0.0.1'}\n",
    "    url = ''.join([url, word])\n",
    "    headers = {\n",
    "        \"User-Agent\": \"Mozilla/5.0 (Windows NT 10.0; Win64; x64; rv:79.0) Gecko/20100101 Firefox/79.0\",\n",
    "        \"Accept\": \"*/*\",\n",
    "        \"Accept-Language\": \"ru-RU,ru;q=0.8,en-US;q=0.5,en;q=0.3\",\n",
    "        \"Accept-Encoding\": \"gzip, deflate, br\"}\n",
    "\n",
    "    #data_to_send = {'p': page_numb, 'pmax': price_max, 'pmin': price_min}\n",
    "    s = requests.Session()\n",
    "    page = s.get(url,\n",
    "                 headers=headers,\n",
    "                 #params=data_to_send,\n",
    "                 proxies={\"http\": proxy, \"https\": proxy}, stream=True\n",
    "                )\n",
    "#     if page.status_code == 429:\n",
    "#         print(\"Blocked due to many requests\")\n",
    "#     if page.status_code == 403:\n",
    "#         raise Exception(\"Url is forbidden\")\n",
    "\n",
    "    # process connection error\n",
    "    soup = BeautifulSoup(page.content, 'html.parser')\n",
    "    return soup"
   ]
  },
  {
   "cell_type": "code",
   "execution_count": 103,
   "metadata": {},
   "outputs": [],
   "source": [
    "def find_word(word):\n",
    "    url = 'https://www.oxfordlearnersdictionaries.com/definition/english/'\n",
    "    res = download_data(url, word)\n",
    "    return res\n",
    "\n",
    "word = 'dodge'\n",
    "res = find_word(word)"
   ]
  },
  {
   "cell_type": "code",
   "execution_count": 104,
   "metadata": {},
   "outputs": [],
   "source": [
    "#data.find(name='top-container')"
   ]
  },
  {
   "cell_type": "markdown",
   "metadata": {},
   "source": [
    "### Whole data block"
   ]
  },
  {
   "cell_type": "code",
   "execution_count": 105,
   "metadata": {},
   "outputs": [],
   "source": [
    "data = res.find(\"div\", {\"id\", \"main-container\"})"
   ]
  },
  {
   "cell_type": "markdown",
   "metadata": {},
   "source": [
    "###### Top Block "
   ]
  },
  {
   "cell_type": "code",
   "execution_count": 106,
   "metadata": {},
   "outputs": [
    {
     "name": "stdout",
     "output_type": "stream",
     "text": [
      "dodge\n",
      "phonetics\n",
      "<span class=\"phonetics\"> <div class=\"phons_br\" geo=\"br\" hclass=\"phons_br\" htag=\"div\" wd=\"dodge\"><div class=\"sound audio_play_button pron-uk icon-audio\" data-src-mp3=\"https://www.oxfordlearnersdictionaries.com/media/english/uk_pron/d/dod/dodge/dodge__gb_1.mp3\" data-src-ogg=\"https://www.oxfordlearnersdictionaries.com/media/english/uk_pron_ogg/d/dod/dodge/dodge__gb_1.ogg\" style=\"cursor: pointer\" title=\"dodge pronunciation\n",
      "                    English\" valign=\"top\"> </div><span class=\"phon\">/dɒdʒ/</span></div> <div class=\"phons_n_am\" geo=\"n_am\" hclass=\"phons_n_am\" htag=\"div\" wd=\"dodge\"><div class=\"sound audio_play_button pron-us icon-audio\" data-src-mp3=\"https://www.oxfordlearnersdictionaries.com/media/english/us_pron/d/dod/dodge/dodge__us_1.mp3\" data-src-ogg=\"https://www.oxfordlearnersdictionaries.com/media/english/us_pron_ogg/d/dod/dodge/dodge__us_1.ogg\" style=\"cursor: pointer\" title=\"dodge pronunciation\n",
      "                    American\" valign=\"top\"> </div><span class=\"phon\">/dɑːdʒ/</span></div></span>\n",
      "\n",
      "/dɒdʒ/\n",
      "/dɑːdʒ/\n"
     ]
    }
   ],
   "source": [
    "# print word itself\n",
    "tmp = res.find(\"div\", {\"class\", \"top-container\"})\n",
    "print(tmp.find('h1', {'class', 'headword'}).text)\n",
    "\n",
    "print('phonetics')\n",
    "print(tmp.find(class_='phonetics'))\n",
    "phone = tmp.find(class_='phonetics')\n",
    "print()\n",
    "br_pron = phone.find(class_=\"phons_br\").get_text().strip()\n",
    "print(br_pron)\n",
    "am_pron = phone.find(class_=\"phons_n_am\").get_text().strip()\n",
    "print(am_pron)"
   ]
  },
  {
   "cell_type": "code",
   "execution_count": 107,
   "metadata": {},
   "outputs": [],
   "source": [
    "# level\n",
    "#tmp = res.find(\"div\", {\"id\", \"main-container\"})"
   ]
  },
  {
   "cell_type": "markdown",
   "metadata": {},
   "source": [
    "###### audio (in progress)"
   ]
  },
  {
   "cell_type": "code",
   "execution_count": 108,
   "metadata": {},
   "outputs": [
    {
     "data": {
      "text/plain": [
       "<div class=\"phons_br\" geo=\"br\" hclass=\"phons_br\" htag=\"div\" wd=\"dodge\"><div class=\"sound audio_play_button pron-uk icon-audio\" data-src-mp3=\"https://www.oxfordlearnersdictionaries.com/media/english/uk_pron/d/dod/dodge/dodge__gb_1.mp3\" data-src-ogg=\"https://www.oxfordlearnersdictionaries.com/media/english/uk_pron_ogg/d/dod/dodge/dodge__gb_1.ogg\" style=\"cursor: pointer\" title=\"dodge pronunciation\n",
       "                    English\" valign=\"top\"> </div><span class=\"phon\">/dɒdʒ/</span></div>"
      ]
     },
     "execution_count": 108,
     "metadata": {},
     "output_type": "execute_result"
    }
   ],
   "source": [
    "phone.find(class_=\"phons_br\")"
   ]
  },
  {
   "cell_type": "code",
   "execution_count": 109,
   "metadata": {},
   "outputs": [
    {
     "data": {
      "text/plain": [
       "'https://www.oxfordlearnersdictionaries.com/media/english/uk_pron/d/dod/dodge/dodge__gb_1.mp3'"
      ]
     },
     "execution_count": 109,
     "metadata": {},
     "output_type": "execute_result"
    }
   ],
   "source": [
    "br_sound_url = phone.find(class_=\"phons_br\").div['data-src-mp3']\n",
    "br_sound_url"
   ]
  },
  {
   "cell_type": "markdown",
   "metadata": {},
   "source": [
    "###### get definitions "
   ]
  },
  {
   "cell_type": "code",
   "execution_count": 110,
   "metadata": {},
   "outputs": [
    {
     "data": {
      "text/plain": [
       "<ol class=\"senses_multiple\" htag=\"ol\"><li class=\"sense\" hclass=\"sense\" htag=\"li\" id=\"dodge_sng_1\" sensenum=\"1\"><span class=\"sensetop\" hclass=\"sensetop\" htag=\"span\"><span class=\"grammar\" hclass=\"grammar\" htag=\"span\">[transitive, intransitive]</span></span> <span class=\"def\" hclass=\"def\" htag=\"span\">to move quickly and suddenly to one side in order to avoid somebody/something</span><ul class=\"examples\" hclass=\"examples\" htag=\"ul\"><li class=\"\" htag=\"li\"> <span class=\"cf\" hclass=\"cf\" htag=\"span\">dodge something</span> <span class=\"x\">He ran across the road, dodging the traffic.</span></li><li class=\"\" htag=\"li\"> <span class=\"cf\" hclass=\"cf\" htag=\"span\">(+ adv./prep.)</span> <span class=\"x\">The girl dodged behind a tree to hide from the other children.</span></li></ul><div class=\"collapse\" hclass=\"collapse\" htag=\"div\"><span class=\"unbox\" id=\"dodge2_unbox_2\" unbox=\"extra_examples\"><span class=\"box_title\">Extra Examples</span><ul class=\"examples\" hclass=\"examples\" htag=\"ul\"><li class=\"\" htag=\"li\"><span class=\"unx\">She ran quickly, dodging between the trees.</span></li><li class=\"\" htag=\"li\"><span class=\"unx\">She threw a heavy book and he just managed to dodge in time.</span></li><li class=\"\" htag=\"li\"><span class=\"unx\">We had to dodge their missiles.</span></li><li class=\"\" htag=\"li\"><span class=\"unx\">dodging in and out of the traffic</span></li></ul></span></div> </li><li class=\"sense\" hclass=\"sense\" htag=\"li\" id=\"dodge_sng_2\" sensenum=\"2\"><span class=\"sensetop\" hclass=\"sensetop\" htag=\"span\"><span class=\"grammar\" hclass=\"grammar\" htag=\"span\">[transitive]</span></span> <span class=\"labels\" hclass=\"labels\" htag=\"span\">(rather informal)</span> <span class=\"def\" hclass=\"def\" htag=\"span\">to avoid doing something, especially in a dishonest way</span><ul class=\"examples\" hclass=\"examples\" htag=\"ul\"><li class=\"\" htag=\"li\"> <span class=\"cf\" hclass=\"cf\" htag=\"span\">dodge something</span> <span class=\"x\">He dodged his military service.</span></li><li class=\"\" htag=\"li\"><span class=\"x\">Claims that he dodged the draft for the Vietnam War could damage his election chances.</span></li><li class=\"\" htag=\"li\"> <span class=\"cf\" hclass=\"cf\" htag=\"span\">dodge doing something</span> <span class=\"x\">She tried to dodge paying her taxes.</span></li></ul> <div class=\"\"> <div class=\"am-default contentslot\" id=\"ad_contentslot_1\">\n",
       "<script type=\"text/javascript\">googletag.cmd.push(function() { googletag.display('ad_contentslot_1'); });</script>\n",
       "</div>\n",
       "</div> </li><div class=\"collapse\" hclass=\"collapse\" htag=\"div\"><span class=\"unbox\" id=\"dodge_unbox_2\" unbox=\"wordorigin\"><span class=\"box_title\">Word Origin</span><span class=\"body\"><span class=\"p\">mid 16th cent. (in the senses ‘dither’ and ‘haggle’): of unknown origin.</span></span></span></div></ol>"
      ]
     },
     "execution_count": 110,
     "metadata": {},
     "output_type": "execute_result"
    }
   ],
   "source": [
    "data.find('ol', {'class', 'senses_multiple'})"
   ]
  },
  {
   "cell_type": "code",
   "execution_count": 111,
   "metadata": {},
   "outputs": [],
   "source": [
    "defs = data.find('ol', {'class', 'senses_multiple'}).find_all(class_='sense')\n",
    "#defs = data.find_all(class_='sense')"
   ]
  },
  {
   "cell_type": "markdown",
   "metadata": {},
   "source": [
    "**usage label**"
   ]
  },
  {
   "cell_type": "code",
   "execution_count": 112,
   "metadata": {},
   "outputs": [
    {
     "data": {
      "text/plain": [
       "<li class=\"sense\" hclass=\"sense\" htag=\"li\" id=\"dodge_sng_1\" sensenum=\"1\"><span class=\"sensetop\" hclass=\"sensetop\" htag=\"span\"><span class=\"grammar\" hclass=\"grammar\" htag=\"span\">[transitive, intransitive]</span></span> <span class=\"def\" hclass=\"def\" htag=\"span\">to move quickly and suddenly to one side in order to avoid somebody/something</span><ul class=\"examples\" hclass=\"examples\" htag=\"ul\"><li class=\"\" htag=\"li\"> <span class=\"cf\" hclass=\"cf\" htag=\"span\">dodge something</span> <span class=\"x\">He ran across the road, dodging the traffic.</span></li><li class=\"\" htag=\"li\"> <span class=\"cf\" hclass=\"cf\" htag=\"span\">(+ adv./prep.)</span> <span class=\"x\">The girl dodged behind a tree to hide from the other children.</span></li></ul><div class=\"collapse\" hclass=\"collapse\" htag=\"div\"><span class=\"unbox\" id=\"dodge2_unbox_2\" unbox=\"extra_examples\"><span class=\"box_title\">Extra Examples</span><ul class=\"examples\" hclass=\"examples\" htag=\"ul\"><li class=\"\" htag=\"li\"><span class=\"unx\">She ran quickly, dodging between the trees.</span></li><li class=\"\" htag=\"li\"><span class=\"unx\">She threw a heavy book and he just managed to dodge in time.</span></li><li class=\"\" htag=\"li\"><span class=\"unx\">We had to dodge their missiles.</span></li><li class=\"\" htag=\"li\"><span class=\"unx\">dodging in and out of the traffic</span></li></ul></span></div> </li>"
      ]
     },
     "execution_count": 112,
     "metadata": {},
     "output_type": "execute_result"
    }
   ],
   "source": [
    "# additional usage info\n",
    "defs[0]"
   ]
  },
  {
   "cell_type": "code",
   "execution_count": 113,
   "metadata": {},
   "outputs": [
    {
     "data": {
      "text/plain": [
       "<span class=\"cf\" hclass=\"cf\" htag=\"span\">dodge something</span>"
      ]
     },
     "execution_count": 113,
     "metadata": {},
     "output_type": "execute_result"
    }
   ],
   "source": [
    "# additional usage info\n",
    "# it is ambiguous\n",
    "defs[0].find(class_='cf')"
   ]
  },
  {
   "cell_type": "code",
   "execution_count": 114,
   "metadata": {},
   "outputs": [],
   "source": [
    "for x in defs[0].findChildren(recursive=False):\n",
    "    #print(x['class'])\n",
    "    if x['class'][0] == 'cf':\n",
    "        print(x.text)"
   ]
  },
  {
   "cell_type": "markdown",
   "metadata": {},
   "source": [
    "**def label**"
   ]
  },
  {
   "cell_type": "code",
   "execution_count": 128,
   "metadata": {},
   "outputs": [
    {
     "name": "stdout",
     "output_type": "stream",
     "text": [
      "(rather informal)\n"
     ]
    }
   ],
   "source": [
    "for x in defs[1].findChildren(recursive=False):\n",
    "    #print(x['class'])\n",
    "    #print(type(x['class']))\n",
    "    try:\n",
    "         if x['class'][0] == 'labels':\n",
    "             print(x.text)\n",
    "    except:\n",
    "        pass"
   ]
  },
  {
   "cell_type": "code",
   "execution_count": 24,
   "metadata": {},
   "outputs": [
    {
     "name": "stdout",
     "output_type": "stream",
     "text": [
      "---\n",
      "[transitive, no passive]\n",
      "to receive something\n",
      "---\n",
      "[transitive, no passive]\n",
      "to obtain something\n",
      "---\n",
      "[transitive]\n",
      "to buy something\n",
      "---\n",
      "[transitive, no passive]\n",
      "to obtain or receive an amount of money by selling something\n",
      "---\n",
      "[transitive]\n",
      "to go to a place and bring somebody/something back\n",
      "---\n",
      "[transitive, no passive]\n",
      "to achieve or be given a particular mark or grade in an exam\n",
      "---\n",
      "[transitive, no passive]\n",
      "to start to develop an illness; to suffer from a pain, etc.\n",
      "---\n",
      "[transitive, no passive]\n",
      "to receive something as a punishment\n",
      "---\n",
      "[transitive, no passive]\n",
      "to connect to the internet or a phone network; to receive broadcasts from a particular television or radio station\n",
      "---\n",
      "[transitive, no passive]\n",
      "to be connected with somebody by phone\n",
      "---\n",
      "[intransitive]\n",
      "to arrive at or reach a place or point\n",
      "---\n",
      "[intransitive, transitive]\n",
      "to move to or from a particular place or in a particular direction, sometimes with difficulty; to make somebody/something do this\n",
      "---\n",
      "[transitive, no passive]\n",
      "to use a bus, taxi, plane, etc.\n",
      "---\n"
     ]
    },
    {
     "ename": "AttributeError",
     "evalue": "'NoneType' object has no attribute 'get_text'",
     "output_type": "error",
     "traceback": [
      "\u001b[0;31m---------------------------------------------------------------------------\u001b[0m",
      "\u001b[0;31mAttributeError\u001b[0m                            Traceback (most recent call last)",
      "\u001b[0;32m<ipython-input-24-2c261402bb5e>\u001b[0m in \u001b[0;36m<module>\u001b[0;34m\u001b[0m\n\u001b[1;32m      2\u001b[0m     \u001b[0;31m#print(x.prettify()) #!!!\u001b[0m\u001b[0;34m\u001b[0m\u001b[0;34m\u001b[0m\u001b[0;34m\u001b[0m\u001b[0m\n\u001b[1;32m      3\u001b[0m     \u001b[0mprint\u001b[0m\u001b[0;34m(\u001b[0m\u001b[0;34m'---'\u001b[0m\u001b[0;34m)\u001b[0m\u001b[0;34m\u001b[0m\u001b[0;34m\u001b[0m\u001b[0m\n\u001b[0;32m----> 4\u001b[0;31m     \u001b[0mprint\u001b[0m\u001b[0;34m(\u001b[0m\u001b[0mx\u001b[0m\u001b[0;34m.\u001b[0m\u001b[0mfind\u001b[0m\u001b[0;34m(\u001b[0m\u001b[0;34m'span'\u001b[0m\u001b[0;34m,\u001b[0m \u001b[0;34m{\u001b[0m\u001b[0;34m'class'\u001b[0m\u001b[0;34m,\u001b[0m \u001b[0;34m'grammar'\u001b[0m\u001b[0;34m}\u001b[0m\u001b[0;34m)\u001b[0m\u001b[0;34m.\u001b[0m\u001b[0mget_text\u001b[0m\u001b[0;34m(\u001b[0m\u001b[0;34m)\u001b[0m\u001b[0;34m)\u001b[0m\u001b[0;34m\u001b[0m\u001b[0;34m\u001b[0m\u001b[0m\n\u001b[0m\u001b[1;32m      5\u001b[0m     \u001b[0mprint\u001b[0m\u001b[0;34m(\u001b[0m\u001b[0mx\u001b[0m\u001b[0;34m.\u001b[0m\u001b[0mfind\u001b[0m\u001b[0;34m(\u001b[0m\u001b[0;34m'span'\u001b[0m\u001b[0;34m,\u001b[0m \u001b[0;34m{\u001b[0m\u001b[0;34m'class'\u001b[0m\u001b[0;34m,\u001b[0m \u001b[0;34m'def'\u001b[0m\u001b[0;34m}\u001b[0m\u001b[0;34m)\u001b[0m\u001b[0;34m.\u001b[0m\u001b[0mget_text\u001b[0m\u001b[0;34m(\u001b[0m\u001b[0;34m)\u001b[0m\u001b[0;34m)\u001b[0m\u001b[0;34m\u001b[0m\u001b[0;34m\u001b[0m\u001b[0m\n",
      "\u001b[0;31mAttributeError\u001b[0m: 'NoneType' object has no attribute 'get_text'"
     ]
    }
   ],
   "source": [
    "for x in defs:\n",
    "    #print(x.prettify()) #!!!\n",
    "    print('---')\n",
    "    print(x.find('span', {'class', 'grammar'}).get_text())\n",
    "    print(x.find('span', {'class', 'def'}).get_text())"
   ]
  },
  {
   "cell_type": "markdown",
   "metadata": {},
   "source": [
    "###### Get examples"
   ]
  },
  {
   "cell_type": "code",
   "execution_count": 25,
   "metadata": {},
   "outputs": [
    {
     "name": "stdout",
     "output_type": "stream",
     "text": [
      " \n",
      "None\n",
      "-----------------\n",
      " \n"
     ]
    }
   ],
   "source": [
    "# Example\n",
    "# Try with `dodge` word\n",
    "exmp = defs[1]\n",
    "print(exmp.span.get_text())\n",
    "if exmp.find('span', {'class', 'labels'}) is None:\n",
    "    print(None)# !!!\n",
    "elif exmp.find('span', {'class', 'labels'}) is not None:\n",
    "    print(\"labels:\", exmp.find('span', {'class', 'labels'}).get_text())\n",
    "#print(exmp.ul.prettify()) # !!!\n",
    "#print(exmp.ul.find_all(class_='cf'))\n",
    "# print('-----------------')\n",
    "# for x in exmp.ul.find_all(class_='cf'):\n",
    "#     print(x.text)\n",
    "# print('-----------------')\n",
    "# for x in exmp.ul.find_all(class_='cf'):\n",
    "#     print(x.text)\n",
    "print('-----------------')\n",
    "exmp = defs[0]\n",
    "print(exmp.span.get_text())\n",
    "#print(exmp.find('span', {'class', 'labels'}).get_text()) # !!!"
   ]
  },
  {
   "cell_type": "code",
   "execution_count": 26,
   "metadata": {},
   "outputs": [
    {
     "name": "stdout",
     "output_type": "stream",
     "text": [
      "0) I got a call from Dave this morning.\n",
      "1) What (= What presents) did you get for your birthday?\n",
      "2) He gets (= earns) about $40 000 a year.\n",
      "3) This room gets very little sunshine.\n",
      "4) I got a shock when I saw the bill.\n",
      "5) I will report back when I get a chance.\n",
      "6) I get the impression that he is bored with his job.\n",
      "7) Where did you get the idea from?\n",
      "8) It's the best way to get a sense of what's actually going on here.\n",
      "9) She got great satisfaction from seeing his embarrassment.\n",
      "------------------\n",
      "0) He has just got a new job.\n",
      "1) I'll get the money somehow.\n",
      "2) She opened the door wider to get a better look.\n",
      "3) Try to get some sleep.\n",
      "4) You can also get information on careers in social work from their website.\n",
      "5) I think someone's trying to get your attention.\n",
      "6) She really knows how to get results.\n",
      "------------------\n",
      "0) get something: Where did you get that skirt?\n",
      "1) Did you manage to get tickets for the concert?\n",
      "2) Can I get a Coke?\n",
      "------------------\n",
      "0) get something: If you sell it at auction you can expect to get roughly £800.\n",
      "1) get something for something: How much did you get for your car?\n",
      "2) We got £420 000 for the house.\n",
      "------------------\n",
      "0) get somebody/something: Quick—go and get a cloth!\n",
      "1) Somebody get a doctor!\n",
      "2) She went to get help.\n",
      "3) I have to go and get my mother from the airport (= collect her).\n",
      "4) get something for somebody: Get a drink for John.\n",
      "5) get somebody/yourself something: Get John a drink.\n",
      "------------------\n",
      "0) He got a ‘C’ in Chemistry and a ‘B’ in English.\n",
      "------------------\n",
      "0) I got this cold off (= from) you!\n",
      "1) She gets (= often suffers from) really bad headaches.\n",
      "2) I think I'm getting a cold.\n",
      "------------------\n",
      "0) He got ten years (= was sent to prison for ten years) for armed robbery.\n",
      "------------------\n",
      "0) 95 per cent of the UK can now get superfast broadband.\n",
      "1) I couldn't get any mobile phone reception.\n",
      "2) We can't get Channel 5 in our area.\n",
      "------------------\n",
      "0) I wanted to speak to the manager but I got his secretary instead.\n",
      "------------------\n",
      "0) We got to San Diego at 7 o'clock.\n",
      "1) We're aiming to get to the party at about nine.\n",
      "2) You got in very late last night.\n",
      "3) I got back an hour ago.\n",
      "4) Wait till we get home.\n",
      "5) What time did you get here?\n",
      "6) Let me know when you get there.\n",
      "7) I haven't got very far with the book I'm reading.\n",
      "------------------\n",
      "0) + adv./prep.: The bridge was destroyed so we couldn't get across the river.\n",
      "1) She got into bed.\n",
      "2) He got down from the ladder.\n",
      "3) We didn't get (= go) to bed until 3 a.m.\n",
      "4) Where do we get on the bus?\n",
      "5) I'm getting off (= leaving the train) at the next station.\n",
      "6) Where have they got to (= where are they)?\n",
      "7) We must be getting home; it's past midnight.\n",
      "8) get somebody/something + adv./prep.: We couldn't get the piano through the door.\n",
      "9) We'd better call a taxi and get you home.\n",
      "10) The general had to get his troops across the river.\n",
      "11) I can't get the lid off.\n",
      "------------------\n",
      "0) We're going to be late—let's get a taxi.\n",
      "1) I usually get the bus to work.\n",
      "------------------\n",
      "0) + adj.: to get angry/bored/hungry/fat\n",
      "1) to get better/worse\n",
      "2) You'll soon get used to the climate here.\n",
      "3) We ought to go; it's getting late.\n",
      "4) to get dressed/undressed (= to put your clothes on/take your clothes off)\n",
      "5) They plan to get married in the summer.\n",
      "6) She's upstairs getting ready.\n",
      "7) As he's got older his tastes have changed.\n",
      "8) She was getting sick of hearing him complain.\n",
      "9) There's nothing to get excited about.\n",
      "10) He got drunk and passed out.\n",
      "11) I was starting to get tired.\n",
      "12) I wouldn't go there alone; you might get (= be) mugged.\n",
      "13) My car got (= was) stolen at the weekend.\n",
      "14) get somebody/something + adj.: Don't get your dress dirty!\n",
      "15) He got his fingers caught in the door.\n",
      "16) She soon got the children ready for school.\n",
      "------------------\n",
      "0) After a time you get to realize that these things don't matter.\n",
      "1) You'll like her once you get to know her.\n",
      "2) His drinking is getting to be a problem.\n",
      "3) She's getting to be an old lady now.\n",
      "------------------\n",
      "0) I must get my hair cut.\n",
      "1) I'll never get all this work finished.\n",
      "2) She has a reputation for getting things done.\n",
      "------------------\n",
      "0) get somebody/something to do something: I couldn't get the car to start this morning.\n",
      "1) He got his sister to help him with his homework.\n",
      "2) You'll never get him to understand.\n",
      "3) get somebody/something doing something: It's not hard to get him talking—the problem is stopping him!\n",
      "4) Can you really get that old car going again?\n",
      "------------------\n",
      "0) I got talking to her.\n",
      "1) We need to get going soon.\n",
      "------------------\n",
      "0) He got to try out all the new software.\n",
      "1) It's not fair—I never get to go first.\n",
      "------------------\n",
      "0) get something: Who's getting the lunch?\n",
      "1) You sit down and relax. I'll get supper.\n",
      "2) get something for somebody/yourself: I must go home and get tea for the kids.\n",
      "3) get somebody/yourself something: I must go home and get the kids their tea.\n",
      "------------------\n",
      "0) Will you get the phone?\n",
      "------------------\n",
      "0) He was on the run for a week before the police got him.\n",
      "1) to get somebody by the arm/wrist/throat\n",
      "2) She fell overboard and the sharks got her.\n",
      "3) He thinks everybody is out to get him (= trying to harm him).\n",
      "4) I'll get you for that!\n",
      "------------------\n",
      "0) The bullet got him in the neck.\n",
      "------------------\n",
      "0) I don't get you.\n",
      "1) She didn't get the joke.\n",
      "2) I don't get it—why would she do a thing like that?\n",
      "3) I get the message—you don't want me to come.\n",
      "------------------\n",
      "0) You get (= There are) all these kids hanging around in the street.\n",
      "1) They still get cases of typhoid there.\n",
      "------------------\n",
      "0) ‘What's the capital of Bhutan?’ ‘You've got me there!’ (= I don't know)\n",
      "------------------\n",
      "0) What gets me is having to do the same thing all day long.\n",
      "------------------\n"
     ]
    }
   ],
   "source": [
    "for exmp in defs:\n",
    "    # \n",
    "    try:\n",
    "    # going through examples\n",
    "        for i, x in enumerate(exmp.find(class_='examples').find_all('li')):\n",
    "            #print(x.find_all('span')[0], x.find_all('span')[1])\n",
    "            # As examples has \"specification: text\" structure\n",
    "            #print(x)\n",
    "            try:\n",
    "                print(f\"{i})\", end=' ')\n",
    "                print(x.find(class_='cf').text, end=': ')\n",
    "                print(x.find(class_='x').text) \n",
    "            except (NameError, AttributeError) as e:\n",
    "                #pass\n",
    "                try:\n",
    "                    print(x.find(class_='x').text) \n",
    "                except:\n",
    "                    print(None)\n",
    "    except AttributeError:\n",
    "        print('0) No examples')\n",
    "    print('------------------')"
   ]
  },
  {
   "cell_type": "markdown",
   "metadata": {},
   "source": [
    "###### To Do"
   ]
  },
  {
   "cell_type": "markdown",
   "metadata": {},
   "source": [
    "- Argparse \n",
    "- Audio\n",
    "- write notes to obsidian\n",
    "- history and rating\n",
    "- level (a1, b2, etc)"
   ]
  },
  {
   "cell_type": "code",
   "execution_count": null,
   "metadata": {},
   "outputs": [],
   "source": []
  },
  {
   "cell_type": "code",
   "execution_count": null,
   "metadata": {},
   "outputs": [],
   "source": []
  },
  {
   "cell_type": "code",
   "execution_count": null,
   "metadata": {},
   "outputs": [],
   "source": []
  }
 ],
 "metadata": {
  "kernelspec": {
   "display_name": "Python 3",
   "language": "python",
   "name": "python3"
  },
  "language_info": {
   "codemirror_mode": {
    "name": "ipython",
    "version": 3
   },
   "file_extension": ".py",
   "mimetype": "text/x-python",
   "name": "python",
   "nbconvert_exporter": "python",
   "pygments_lexer": "ipython3",
   "version": "3.8.3"
  }
 },
 "nbformat": 4,
 "nbformat_minor": 4
}
